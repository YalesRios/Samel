{
 "cells": [
  {
   "cell_type": "code",
   "execution_count": 1,
   "metadata": {},
   "outputs": [],
   "source": [
    "import os"
   ]
  },
  {
   "cell_type": "code",
   "execution_count": 2,
   "metadata": {},
   "outputs": [],
   "source": [
    "os.chdir(\"./core/\")"
   ]
  },
  {
   "cell_type": "code",
   "execution_count": 3,
   "metadata": {},
   "outputs": [],
   "source": [
    "%%capture\n",
    "from load_datasets import *\n",
    "from ensemble import *\n",
    "from saliency import *\n",
    "from scipy.stats import describe"
   ]
  },
  {
   "cell_type": "code",
   "execution_count": 4,
   "metadata": {},
   "outputs": [],
   "source": [
    "(MNIST_trainX, MNIST_trainY),(MNIST_testX, MNIST_testY) = load_data(\"MNIST\")"
   ]
  },
  {
   "cell_type": "code",
   "execution_count": 5,
   "metadata": {},
   "outputs": [
    {
     "name": "stdout",
     "output_type": "stream",
     "text": [
      "Epoch 1/5\n",
      "60000/60000 [==============================] - 15s 253us/step - loss: 0.4000 - acc: 0.8849\n",
      "Epoch 2/5\n",
      "60000/60000 [==============================] - 11s 190us/step - loss: 0.1068 - acc: 0.9675\n",
      "Epoch 3/5\n",
      "60000/60000 [==============================] - 11s 187us/step - loss: 0.0736 - acc: 0.9779\n",
      "Epoch 4/5\n",
      "60000/60000 [==============================] - 11s 190us/step - loss: 0.0586 - acc: 0.9819\n",
      "Epoch 5/5\n",
      "60000/60000 [==============================] - 11s 191us/step - loss: 0.0489 - acc: 0.9850\n",
      "Epoch 1/5\n",
      "60000/60000 [==============================] - 12s 207us/step - loss: 0.3870 - acc: 0.8891\n",
      "Epoch 2/5\n",
      "60000/60000 [==============================] - 12s 195us/step - loss: 0.1062 - acc: 0.9675\n",
      "Epoch 3/5\n",
      "60000/60000 [==============================] - 12s 197us/step - loss: 0.0751 - acc: 0.9778\n",
      "Epoch 4/5\n",
      "60000/60000 [==============================] - 12s 194us/step - loss: 0.0591 - acc: 0.9818\n",
      "Epoch 5/5\n",
      "60000/60000 [==============================] - 12s 195us/step - loss: 0.0498 - acc: 0.9846\n",
      "Epoch 1/5\n",
      "60000/60000 [==============================] - 12s 201us/step - loss: 0.4030 - acc: 0.8844\n",
      "Epoch 2/5\n",
      "60000/60000 [==============================] - 12s 196us/step - loss: 0.1099 - acc: 0.9668\n",
      "Epoch 3/5\n",
      "60000/60000 [==============================] - 12s 194us/step - loss: 0.0751 - acc: 0.9770\n",
      "Epoch 4/5\n",
      "60000/60000 [==============================] - 12s 192us/step - loss: 0.0598 - acc: 0.9816\n",
      "Epoch 5/5\n",
      "60000/60000 [==============================] - 12s 194us/step - loss: 0.0495 - acc: 0.9845\n",
      "Epoch 1/5\n",
      "60000/60000 [==============================] - 12s 195us/step - loss: 0.4392 - acc: 0.8654\n",
      "Epoch 2/5\n",
      "60000/60000 [==============================] - 11s 187us/step - loss: 0.1079 - acc: 0.9676\n",
      "Epoch 3/5\n",
      "60000/60000 [==============================] - 11s 190us/step - loss: 0.0742 - acc: 0.9775\n",
      "Epoch 4/5\n",
      "60000/60000 [==============================] - 11s 188us/step - loss: 0.0589 - acc: 0.9822\n",
      "Epoch 5/5\n",
      "60000/60000 [==============================] - 11s 190us/step - loss: 0.0491 - acc: 0.9849\n",
      "Epoch 1/5\n",
      "60000/60000 [==============================] - 12s 203us/step - loss: 0.4043 - acc: 0.8857\n",
      "Epoch 2/5\n",
      "60000/60000 [==============================] - 12s 194us/step - loss: 0.1057 - acc: 0.9687\n",
      "Epoch 3/5\n",
      "60000/60000 [==============================] - 12s 195us/step - loss: 0.0740 - acc: 0.9780\n",
      "Epoch 4/5\n",
      "60000/60000 [==============================] - 12s 193us/step - loss: 0.0598 - acc: 0.9821\n",
      "Epoch 5/5\n",
      "60000/60000 [==============================] - 12s 196us/step - loss: 0.0499 - acc: 0.9845\n",
      "Epoch 1/5\n",
      "60000/60000 [==============================] - 12s 204us/step - loss: 0.4115 - acc: 0.8830\n",
      "Epoch 2/5\n",
      "60000/60000 [==============================] - 12s 198us/step - loss: 0.1024 - acc: 0.9694\n",
      "Epoch 3/5\n",
      "60000/60000 [==============================] - 12s 197us/step - loss: 0.0724 - acc: 0.9777\n",
      "Epoch 4/5\n",
      "60000/60000 [==============================] - 12s 196us/step - loss: 0.0580 - acc: 0.9822\n",
      "Epoch 5/5\n",
      "60000/60000 [==============================] - 12s 198us/step - loss: 0.0493 - acc: 0.9849\n"
     ]
    },
    {
     "data": {
      "text/plain": [
       "[<keras.engine.sequential.Sequential at 0x7f8cee31c690>,\n",
       " <keras.engine.sequential.Sequential at 0x7f8ced725bd0>,\n",
       " <keras.engine.sequential.Sequential at 0x7f8ced676b90>,\n",
       " <keras.engine.sequential.Sequential at 0x7f8ce0199550>,\n",
       " <keras.engine.sequential.Sequential at 0x7f8ce00dac10>]"
      ]
     },
     "execution_count": 5,
     "metadata": {},
     "output_type": "execute_result"
    }
   ],
   "source": [
    "MNIST_lenet = get_lenet(input_shape = np.shape(MNIST_trainX[0]))\n",
    "train_network(network = MNIST_lenet, trainX = MNIST_trainX, trainY = MNIST_trainY)\n",
    "MNIST_lenets = clone_network_into_ensemble(number_of_networks = 5, network = MNIST_lenet)\n",
    "train_ensemble(ensemble = MNIST_lenets, trainX = MNIST_trainX, trainY = MNIST_trainY)"
   ]
  },
  {
   "cell_type": "code",
   "execution_count": 17,
   "metadata": {},
   "outputs": [
    {
     "name": "stdout",
     "output_type": "stream",
     "text": [
      "7\n",
      "[[2.54044188e-07 6.15567417e-08 2.09441480e-05 9.79230617e-05\n",
      "  2.77245663e-10 1.03716224e-07 1.28672823e-12 9.99866319e-01\n",
      "  8.57808711e-08 1.42942873e-05]]\n",
      "[[2.54044188e-07 6.15568064e-08 2.09441368e-05 ... 9.99866319e-01\n",
      "  8.57808772e-08 1.42942737e-05]\n",
      " [2.59968743e-06 1.05904743e-04 9.99886048e-01 ... 1.51722549e-10\n",
      "  2.86567047e-06 3.75852798e-12]\n",
      " [2.87616598e-05 9.98338056e-01 1.46797825e-04 ... 4.97267503e-04\n",
      "  2.09265677e-04 1.34541656e-05]\n",
      " ...\n",
      " [3.20847665e-10 1.36298634e-08 4.65116926e-10 ... 8.47022193e-07\n",
      "  3.76660198e-07 6.13500156e-06]\n",
      " [4.30753272e-07 8.03009290e-09 9.33397758e-10 ... 1.24399076e-08\n",
      "  2.43943899e-04 9.67112335e-09]\n",
      " [2.82364357e-06 1.42229074e-09 8.04172739e-08 ... 1.06660924e-11\n",
      "  2.98044284e-07 3.15405475e-09]]\n",
      "[7 2 1 ... 4 5 6]\n",
      "0.9882\n"
     ]
    }
   ],
   "source": [
    "print(get_ensemble_predicted_output(ensemble = MNIST_lenets, input = MNIST_testX[0], number_of_output_nodes = 10))\n",
    "print(get_ensemble_output_values(ensemble = MNIST_lenets, input = MNIST_testX[0], number_of_output_nodes = 10))\n",
    "MNIST_outputs_values = get_ensemble_output_values_for_multiple_inputs(ensemble = MNIST_lenets, inputs = MNIST_testX, number_of_output_nodes = 10)\n",
    "MNIST_outputs = get_ensemble_predicted_outputs(ensemble = MNIST_lenets, inputs = MNIST_testX, number_of_output_nodes = 10)\n",
    "print(MNIST_outputs_values)\n",
    "print(MNIST_outputs)\n",
    "print(evaluate_ensemble_accuracy(ensemble = MNIST_lenets, testX = MNIST_testX, testY = MNIST_testY))"
   ]
  },
  {
   "cell_type": "code",
   "execution_count": 8,
   "metadata": {},
   "outputs": [],
   "source": [
    "MNIST_optimizers = get_ensemble_optimisers(ensemble = MNIST_lenets)"
   ]
  },
  {
   "cell_type": "code",
   "execution_count": 9,
   "metadata": {},
   "outputs": [
    {
     "data": {
      "image/png": "[encoded data removed]",
      "text/plain": [
       "<Figure size 1080x1080 with 6 Axes>"
      ]
     },
     "metadata": {
      "needs_background": "light"
     },
     "output_type": "display_data"
    },
    {
     "data": {
      "image/png": "[encoded data removed]",
      "text/plain": [
       "<Figure size 432x288 with 1 Axes>"
      ]
     },
     "metadata": {
      "needs_background": "light"
     },
     "output_type": "display_data"
    },
    {
     "name": "stdout",
     "output_type": "stream",
     "text": [
      "0.5320026030007806\n"
     ]
    }
   ],
   "source": [
    "example_maps = generate_saliency_maps_for_one_input(ensemble = MNIST_lenets,\n",
    "                                                    input = MNIST_testX[0],\n",
    "                                                    optimisers = MNIST_optimizers,\n",
    "                                                    visualised_layer = 9)\n",
    "visualize_saliency_maps(input = MNIST_testX[0].reshape(28,28), saliency_maps = example_maps)\n",
    "plt.imshow(generate_uncertainty_map(saliency_maps = example_maps))\n",
    "plt.show()\n",
    "print(calculate_uncertainty_with_maps(example_maps))"
   ]
  },
  {
   "cell_type": "code",
   "execution_count": 10,
   "metadata": {},
   "outputs": [
    {
     "name": "stderr",
     "output_type": "stream",
     "text": [
      "100%|██████████| 10000/10000 [00:35<00:00, 280.38it/s]\n",
      "100%|██████████| 10000/10000 [00:35<00:00, 278.49it/s]\n",
      "100%|██████████| 10000/10000 [00:35<00:00, 278.75it/s]\n",
      "100%|██████████| 10000/10000 [00:35<00:00, 277.94it/s]\n",
      "100%|██████████| 10000/10000 [00:36<00:00, 276.60it/s]\n"
     ]
    },
    {
     "name": "stdout",
     "output_type": "stream",
     "text": [
      "[0.5320026  0.55993377 0.59292776 ... 0.54764894 0.55730321 0.54232708]\n"
     ]
    }
   ],
   "source": [
    "MNIST_saliency_maps = generate_ensemble_saliency_maps_for_multiple_inputs(\n",
    "    ensemble = MNIST_lenets,\n",
    "    inputs = MNIST_testX,\n",
    "    output_nodes = MNIST_outputs,\n",
    "    optimisers = MNIST_optimizers,\n",
    "    visualised_layer = 9)\n",
    "\n",
    "MNIST_uncertainties = calculate_uncertainties_with_maps(MNIST_saliency_maps)\n",
    "print(MNIST_uncertainties)"
   ]
  },
  {
   "cell_type": "code",
   "execution_count": 11,
   "metadata": {
    "scrolled": true
   },
   "outputs": [
    {
     "name": "stderr",
     "output_type": "stream",
     "text": [
      "  0%|          | 31/10000 [00:00<00:32, 308.61it/s]"
     ]
    },
    {
     "name": "stdout",
     "output_type": "stream",
     "text": [
      "0.5320026030007806\n"
     ]
    },
    {
     "name": "stderr",
     "output_type": "stream",
     "text": [
      "100%|██████████| 10000/10000 [00:35<00:00, 284.55it/s]\n",
      "100%|██████████| 10000/10000 [00:34<00:00, 286.57it/s]\n",
      "100%|██████████| 10000/10000 [00:35<00:00, 285.01it/s]\n",
      "100%|██████████| 10000/10000 [00:35<00:00, 285.57it/s]\n",
      "100%|██████████| 10000/10000 [00:34<00:00, 285.80it/s]\n"
     ]
    },
    {
     "name": "stdout",
     "output_type": "stream",
     "text": [
      "[0.5320026  0.55993377 0.59292776 ... 0.54764894 0.55730321 0.54232708]\n"
     ]
    }
   ],
   "source": [
    "print(calculate_uncertainty_for_one_input(ensemble = MNIST_lenets,\n",
    "                                          input = MNIST_testX[0],\n",
    "                                          optimisers = MNIST_optimizers,\n",
    "                                          visualised_layer = 9))\n",
    "MNIST_uncertainties = calculate_uncertainties_for_multiple_inputs(MNIST_lenets,MNIST_testX,MNIST_outputs,MNIST_optimizers,9)\n",
    "print(MNIST_uncertainties)"
   ]
  },
  {
   "cell_type": "code",
   "execution_count": 12,
   "metadata": {},
   "outputs": [
    {
     "name": "stdout",
     "output_type": "stream",
     "text": [
      "DescribeResult(nobs=10000, minmax=(0.4987297691841069, 0.6676405600379951), mean=0.567834126460161, variance=0.0005372192444003238, skewness=0.25205940914565556, kurtosis=-0.03387229794136637)\n"
     ]
    },
    {
     "data": {
      "image/png": "[encoded data removed]",
      "text/plain": [
       "<Figure size 432x288 with 1 Axes>"
      ]
     },
     "metadata": {
      "needs_background": "light"
     },
     "output_type": "display_data"
    }
   ],
   "source": [
    "print(describe(MNIST_uncertainties))\n",
    "plt.hist(MNIST_uncertainties)\n",
    "plt.show()"
   ]
  }
 ],
 "metadata": {
  "kernelspec": {
   "display_name": "Python 3",
   "language": "python",
   "name": "python3"
  },
  "language_info": {
   "codemirror_mode": {
    "name": "ipython",
    "version": 3
   },
   "file_extension": ".py",
   "mimetype": "text/x-python",
   "name": "python",
   "nbconvert_exporter": "python",
   "pygments_lexer": "ipython3",
   "version": "3.7.6"
  }
 },
 "nbformat": 4,
 "nbformat_minor": 2
}
