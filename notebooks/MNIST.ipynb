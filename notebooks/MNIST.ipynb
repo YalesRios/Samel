{
 "cells": [
  {
   "cell_type": "code",
   "execution_count": null,
   "metadata": {},
   "outputs": [],
   "source": [
    "import os"
   ]
  },
  {
   "cell_type": "code",
   "execution_count": null,
   "metadata": {},
   "outputs": [],
   "source": [
    "os.chdir(\"../core/\")"
   ]
  },
  {
   "cell_type": "code",
   "execution_count": null,
   "metadata": {},
   "outputs": [],
   "source": [
    "%%capture\n",
    "from load_datasets import *\n",
    "from ensemble import *\n",
    "from saliency import *\n",
    "from scipy.stats import describe"
   ]
  },
  {
   "cell_type": "code",
   "execution_count": null,
   "metadata": {},
   "outputs": [],
   "source": [
    "(SVHN_trainX, SVHN_trainY),(SVHN_testX, SVHN_testY) = load_data(\"SVHN\")\n",
    "(MNIST_trainX, MNIST_trainY),(MNIST_testX, MNIST_testY) = load_data(\"MNIST\")\n",
    "NotMNIST = load_data(\"NotMNIST\")\n",
    "(CIFAR10_trainX, CIFAR10_trainY),(CIFAR10_testX, CIFAR10_testY) = load_data(\"CIFAR10\")"
   ]
  },
  {
   "cell_type": "code",
   "execution_count": null,
   "metadata": {},
   "outputs": [],
   "source": [
    "SVHN_trainX,SVHN_testX,CIFAR10_trainX,CIFAR10_testX = crop_32_to_28(SVHN_trainX),crop_32_to_28(SVHN_testX),crop_32_to_28(CIFAR10_trainX),crop_32_to_28(CIFAR10_testX)\n",
    "SVHN_trainX,SVHN_testX,CIFAR10_trainX,CIFAR10_testX = make_monochrome(SVHN_trainX),make_monochrome(SVHN_testX),make_monochrome(CIFAR10_trainX),make_monochrome(CIFAR10_testX)"
   ]
  },
  {
   "cell_type": "markdown",
   "metadata": {},
   "source": [
    "# Creating ensemble"
   ]
  },
  {
   "cell_type": "code",
   "execution_count": null,
   "metadata": {},
   "outputs": [],
   "source": [
    "MNIST_lenet = get_lenet(input_shape = np.shape(MNIST_trainX[0]))\n",
    "train_network(network = MNIST_lenet, trainX = MNIST_trainX, trainY = MNIST_trainY)\n",
    "MNIST_lenets = clone_network_into_ensemble(number_of_networks = 5, network = MNIST_lenet)\n",
    "train_ensemble(ensemble = MNIST_lenets, trainX = MNIST_trainX, trainY = MNIST_trainY)"
   ]
  },
  {
   "cell_type": "code",
   "execution_count": null,
   "metadata": {},
   "outputs": [],
   "source": [
    "MNIST_optimizers = get_ensemble_optimisers(ensemble = MNIST_lenets)"
   ]
  },
  {
   "cell_type": "markdown",
   "metadata": {},
   "source": [
    "# Extracting data"
   ]
  },
  {
   "cell_type": "markdown",
   "metadata": {},
   "source": [
    "## MNIST"
   ]
  },
  {
   "cell_type": "code",
   "execution_count": null,
   "metadata": {},
   "outputs": [],
   "source": [
    "MNIST_outputs_values = get_ensemble_output_values_for_multiple_inputs(ensemble = MNIST_lenets, inputs = MNIST_testX, number_of_output_nodes = 10)\n",
    "MNIST_predicted_outputs = get_ensemble_predicted_outputs(ensemble = MNIST_lenets, inputs = MNIST_testX, number_of_output_nodes = 10)\n",
    "MNIST_output_values_of_predicted_outputs = np.take(MNIST_outputs_values,MNIST_predicted_outputs)"
   ]
  },
  {
   "cell_type": "code",
   "execution_count": null,
   "metadata": {},
   "outputs": [],
   "source": [
    "MNIST_ensemble_votes = get_ensemble_votes_for_multiple_inputs(MNIST_lenets,MNIST_testX,10)\n",
    "MNIST_majority_voting_predicted_outputs = np.argmax(MNIST_ensemble_votes,axis = 1)\n",
    "MNIST_vote_ratios_of_predicted_outputs = np.max(MNIST_ensemble_votes,axis = 1)/5\n",
    "MNIST_different_instances_between_voting_and_averaging = np.nonzero(MNIST_majority_voting_predicted_outputs-MNIST_predicted_outputs)[0]"
   ]
  },
  {
   "cell_type": "code",
   "execution_count": null,
   "metadata": {},
   "outputs": [],
   "source": [
    "MNIST_saliency_maps = generate_ensemble_saliency_maps_for_multiple_inputs(\n",
    "    ensemble = MNIST_lenets,\n",
    "    inputs = MNIST_testX,\n",
    "    output_nodes = MNIST_predicted_outputs,\n",
    "    optimisers = MNIST_optimizers,\n",
    "    visualised_layer = 9)\n",
    "\n",
    "MNIST_uncertainties = calculate_uncertainties_with_maps(MNIST_saliency_maps)"
   ]
  },
  {
   "cell_type": "code",
   "execution_count": null,
   "metadata": {},
   "outputs": [],
   "source": [
    "MNIST_singular_predictions_values = MNIST_lenet.predict(MNIST_testX)"
   ]
  },
  {
   "cell_type": "code",
   "execution_count": null,
   "metadata": {},
   "outputs": [],
   "source": [
    "MNIST_variance = np.var(MNIST_singular_predictions_values,axis = 1)"
   ]
  },
  {
   "cell_type": "markdown",
   "metadata": {},
   "source": [
    "## NotMNIST"
   ]
  },
  {
   "cell_type": "code",
   "execution_count": null,
   "metadata": {},
   "outputs": [],
   "source": [
    "NotMNIST_outputs_values = get_ensemble_output_values_for_multiple_inputs(ensemble = MNIST_lenets, inputs = NotMNIST, number_of_output_nodes = 10)\n",
    "NotMNIST_predicted_outputs = get_ensemble_predicted_outputs(ensemble = MNIST_lenets, inputs = NotMNIST, number_of_output_nodes = 10)\n",
    "NotMNIST_output_values_of_predicted_outputs = np.take(NotMNIST_outputs_values,NotMNIST_predicted_outputs)"
   ]
  },
  {
   "cell_type": "code",
   "execution_count": null,
   "metadata": {},
   "outputs": [],
   "source": [
    "NotMNIST_ensemble_votes = get_ensemble_votes_for_multiple_inputs(MNIST_lenets,NotMNIST,10)\n",
    "NotMNIST_majority_voting_predicted_outputs = np.argmax(NotMNIST_ensemble_votes,axis = 1)\n",
    "NotMNIST_vote_ratios_of_predicted_outputs = np.max(NotMNIST_ensemble_votes,axis = 1)/5\n",
    "NotMNIST_different_instances_between_voting_and_averaging = np.nonzero(NotMNIST_majority_voting_predicted_outputs-NotMNIST_predicted_outputs)[0]"
   ]
  },
  {
   "cell_type": "code",
   "execution_count": null,
   "metadata": {},
   "outputs": [],
   "source": [
    "NotMNIST_saliency_maps = generate_ensemble_saliency_maps_for_multiple_inputs(\n",
    "    ensemble = MNIST_lenets,\n",
    "    inputs = NotMNIST,\n",
    "    output_nodes = NotMNIST_predicted_outputs,\n",
    "    optimisers = MNIST_optimizers,\n",
    "    visualised_layer = 9)\n",
    "\n",
    "NotMNIST_uncertainties = calculate_uncertainties_with_maps(NotMNIST_saliency_maps)"
   ]
  },
  {
   "cell_type": "code",
   "execution_count": null,
   "metadata": {},
   "outputs": [],
   "source": [
    "NotMNIST_singular_predictions_values = MNIST_lenet.predict(NotMNIST)"
   ]
  },
  {
   "cell_type": "code",
   "execution_count": null,
   "metadata": {},
   "outputs": [],
   "source": [
    "NotMNIST_variance = np.var(NotMNIST_singular_predictions_values,axis = 1)"
   ]
  },
  {
   "cell_type": "markdown",
   "metadata": {},
   "source": [
    "## SVHN"
   ]
  },
  {
   "cell_type": "code",
   "execution_count": null,
   "metadata": {},
   "outputs": [],
   "source": [
    "SVHN_outputs_values = get_ensemble_output_values_for_multiple_inputs(ensemble = MNIST_lenets, inputs = SVHN_testX, number_of_output_nodes = 10)\n",
    "SVHN_predicted_outputs = get_ensemble_predicted_outputs(ensemble = MNIST_lenets, inputs = SVHN_testX, number_of_output_nodes = 10)\n",
    "SVHN_output_values_of_predicted_outputs = np.take(SVHN_outputs_values,SVHN_predicted_outputs)"
   ]
  },
  {
   "cell_type": "code",
   "execution_count": null,
   "metadata": {},
   "outputs": [],
   "source": [
    "SVHN_ensemble_votes = get_ensemble_votes_for_multiple_inputs(MNIST_lenets,SVHN_testX,10)\n",
    "SVHN_majority_voting_predicted_outputs = np.argmax(SVHN_ensemble_votes,axis = 1)\n",
    "SVHN_vote_ratios_of_predicted_outputs = np.max(SVHN_ensemble_votes,axis = 1)/5\n",
    "SVHN_different_instances_between_voting_and_averaging = np.nonzero(SVHN_majority_voting_predicted_outputs-SVHN_predicted_outputs)[0]"
   ]
  },
  {
   "cell_type": "code",
   "execution_count": null,
   "metadata": {},
   "outputs": [],
   "source": [
    "SVHN_saliency_maps = generate_ensemble_saliency_maps_for_multiple_inputs(\n",
    "    ensemble = MNIST_lenets,\n",
    "    inputs = SVHN_testX,\n",
    "    output_nodes = SVHN_predicted_outputs,\n",
    "    optimisers = MNIST_optimizers,\n",
    "    visualised_layer = 9)\n",
    "\n",
    "SVHN_uncertainties = calculate_uncertainties_with_maps(SVHN_saliency_maps)"
   ]
  },
  {
   "cell_type": "code",
   "execution_count": null,
   "metadata": {},
   "outputs": [],
   "source": [
    "SVHN_singular_predictions_values = MNIST_lenet.predict(SVHN_testX)"
   ]
  },
  {
   "cell_type": "code",
   "execution_count": null,
   "metadata": {},
   "outputs": [],
   "source": [
    "SVHN_variance = np.var(SVHN_singular_predictions_values,axis = 1)"
   ]
  },
  {
   "cell_type": "markdown",
   "metadata": {},
   "source": [
    "## CIFAR10"
   ]
  },
  {
   "cell_type": "code",
   "execution_count": null,
   "metadata": {},
   "outputs": [],
   "source": [
    "CIFAR10_outputs_values = get_ensemble_output_values_for_multiple_inputs(ensemble = MNIST_lenets, inputs = CIFAR10_testX, number_of_output_nodes = 10)\n",
    "CIFAR10_predicted_outputs = get_ensemble_predicted_outputs(ensemble = MNIST_lenets, inputs = CIFAR10_testX, number_of_output_nodes = 10)\n",
    "CIFAR10_output_values_of_predicted_outputs = np.take(CIFAR10_outputs_values,CIFAR10_predicted_outputs)"
   ]
  },
  {
   "cell_type": "code",
   "execution_count": null,
   "metadata": {},
   "outputs": [],
   "source": [
    "CIFAR10_ensemble_votes = get_ensemble_votes_for_multiple_inputs(MNIST_lenets,CIFAR10_testX,10)\n",
    "CIFAR10_majority_voting_predicted_outputs = np.argmax(CIFAR10_ensemble_votes,axis = 1)\n",
    "CIFAR10_vote_ratios_of_predicted_outputs = np.max(CIFAR10_ensemble_votes,axis = 1)/5\n",
    "CIFAR10_different_instances_between_voting_and_averaging = np.nonzero(CIFAR10_majority_voting_predicted_outputs-CIFAR10_predicted_outputs)[0]"
   ]
  },
  {
   "cell_type": "code",
   "execution_count": null,
   "metadata": {},
   "outputs": [],
   "source": [
    "CIFAR10_saliency_maps = generate_ensemble_saliency_maps_for_multiple_inputs(\n",
    "    ensemble = MNIST_lenets,\n",
    "    inputs = CIFAR10_testX,\n",
    "    output_nodes = CIFAR10_predicted_outputs,\n",
    "    optimisers = MNIST_optimizers,\n",
    "    visualised_layer = 9)\n",
    "\n",
    "CIFAR10_uncertainties = calculate_uncertainties_with_maps(CIFAR10_saliency_maps)"
   ]
  },
  {
   "cell_type": "code",
   "execution_count": null,
   "metadata": {},
   "outputs": [],
   "source": [
    "CIFAR10_singular_predictions_values = MNIST_lenet.predict(CIFAR10_testX)"
   ]
  },
  {
   "cell_type": "code",
   "execution_count": null,
   "metadata": {},
   "outputs": [],
   "source": [
    "CIFAR10_variance = np.var(CIFAR10_singular_predictions_values,axis = 1)"
   ]
  },
  {
   "cell_type": "markdown",
   "metadata": {},
   "source": [
    "# Exploring data"
   ]
  },
  {
   "cell_type": "code",
   "execution_count": null,
   "metadata": {},
   "outputs": [],
   "source": [
    "# General evaluation\n",
    "print(\"Evaluation (loss,acc) of singular LeNet:\")\n",
    "print(MNIST_lenet.evaluate(MNIST_testX, MNIST_testY))\n",
    "print(\"\")\n",
    "print(\"Evaluation (loss,acc) of each LeNet in the ensemble:\")\n",
    "for lenet in MNIST_lenets:\n",
    "    print(lenet.evaluate(MNIST_testX, MNIST_testY))\n",
    "print(\"\")\n",
    "print(\"Accuracy of ensemble:\")\n",
    "print(evaluate_ensemble_accuracy(MNIST_lenets,MNIST_testX,MNIST_testY))\n",
    "print(\"\")\n",
    "print(\"Averaged softmax output values of any output node of the ensemble:\")\n",
    "print(describe(MNIST_outputs_values,axis=None))\n",
    "print(\"\")\n",
    "print(\"Averaged softmax output values of the ensemble's predicted outputs:\")\n",
    "print(describe(MNIST_output_values_of_predicted_outputs))\n",
    "print(\"\")\n",
    "print(\"Softmax output values of the singular LeNet's outputs:\")\n",
    "print(describe(MNIST_lenet.predict(MNIST_testX),axis = None))\n",
    "print(\"\")"
   ]
  },
  {
   "cell_type": "markdown",
   "metadata": {},
   "source": [
    "## MNIST"
   ]
  },
  {
   "cell_type": "code",
   "execution_count": null,
   "metadata": {},
   "outputs": [],
   "source": [
    "plt.style.use('default')"
   ]
  },
  {
   "cell_type": "code",
   "execution_count": null,
   "metadata": {},
   "outputs": [],
   "source": [
    "print(\"Statistical description of uncertainty values:\")\n",
    "print(describe(MNIST_uncertainties))\n",
    "print(\"Histogram of uncertainty values:\")\n",
    "plt.hist(MNIST_uncertainties)\n",
    "plt.show()"
   ]
  },
  {
   "cell_type": "code",
   "execution_count": null,
   "metadata": {},
   "outputs": [],
   "source": [
    "plt.scatter(x = MNIST_output_values_of_predicted_outputs, y = MNIST_uncertainties)\n",
    "print(\"Scatterplot of softmax value of predicted output (x) and uncertainty (y):\")\n",
    "plt.show()"
   ]
  },
  {
   "cell_type": "code",
   "execution_count": null,
   "metadata": {},
   "outputs": [],
   "source": [
    "print(\"Variance of singular LeNet's outputs for each input\")\n",
    "print(describe(MNIST_variance))\n",
    "plt.hist(MNIST_variance)\n",
    "plt.show()"
   ]
  },
  {
   "cell_type": "code",
   "execution_count": null,
   "metadata": {},
   "outputs": [],
   "source": [
    "print(len(MNIST_different_instances_between_voting_and_averaging))\n",
    "print(1 - len(MNIST_different_instances_between_voting_and_averaging)/len(MNIST_testX))\n",
    "print(describe(MNIST_vote_ratios_of_predicted_outputs))\n",
    "plt.hist(MNIST_vote_ratios_of_predicted_outputs)\n",
    "plt.show()"
   ]
  },
  {
   "cell_type": "markdown",
   "metadata": {},
   "source": [
    "## NotMNIST"
   ]
  },
  {
   "cell_type": "code",
   "execution_count": null,
   "metadata": {},
   "outputs": [],
   "source": [
    "print(\"Statistical description of uncertainty values:\")\n",
    "print(describe(NotMNIST_uncertainties))\n",
    "print(\"Histogram of uncertainty values:\")\n",
    "plt.hist(NotMNIST_uncertainties)\n",
    "plt.show()"
   ]
  },
  {
   "cell_type": "code",
   "execution_count": null,
   "metadata": {},
   "outputs": [],
   "source": [
    "plt.scatter(x = NotMNIST_output_values_of_predicted_outputs, y = NotMNIST_uncertainties)\n",
    "print(\"Scatterplot of softmax value of predicted output (x) and uncertainty (y):\")\n",
    "plt.show()"
   ]
  },
  {
   "cell_type": "code",
   "execution_count": null,
   "metadata": {},
   "outputs": [],
   "source": [
    "print(\"Variance of singular LeNet's outputs for each input\")\n",
    "print(describe(NotMNIST_variance))\n",
    "plt.hist(NotMNIST_variance)\n",
    "plt.show()"
   ]
  },
  {
   "cell_type": "code",
   "execution_count": null,
   "metadata": {},
   "outputs": [],
   "source": [
    "print(describe(NotMNIST_vote_ratios_of_predicted_outputs))\n",
    "plt.hist(NotMNIST_vote_ratios_of_predicted_outputs)\n",
    "plt.show()"
   ]
  },
  {
   "cell_type": "markdown",
   "metadata": {},
   "source": [
    "## SVHN"
   ]
  },
  {
   "cell_type": "code",
   "execution_count": null,
   "metadata": {},
   "outputs": [],
   "source": [
    "print(\"Statistical description of uncertainty values:\")\n",
    "print(describe(SVHN_uncertainties))\n",
    "print(\"Histogram of uncertainty values:\")\n",
    "plt.hist(SVHN_uncertainties)\n",
    "plt.show()"
   ]
  },
  {
   "cell_type": "code",
   "execution_count": null,
   "metadata": {},
   "outputs": [],
   "source": [
    "plt.scatter(x = SVHN_output_values_of_predicted_outputs, y = SVHN_uncertainties)\n",
    "print(\"Scatterplot of softmax value of predicted output (x) and uncertainty (y):\")\n",
    "plt.show()"
   ]
  },
  {
   "cell_type": "code",
   "execution_count": null,
   "metadata": {},
   "outputs": [],
   "source": [
    "print(\"Variance of singular LeNet's outputs for each input\")\n",
    "print(describe(SVHN_variance))\n",
    "plt.hist(SVHN_variance)\n",
    "plt.show()"
   ]
  },
  {
   "cell_type": "code",
   "execution_count": null,
   "metadata": {},
   "outputs": [],
   "source": [
    "print(len(SVHN_different_instances_between_voting_and_averaging))\n",
    "print(1 - len(SVHN_different_instances_between_voting_and_averaging)/len(SVHN_testX))\n",
    "print(describe(SVHN_vote_ratios_of_predicted_outputs))\n",
    "plt.hist(SVHN_vote_ratios_of_predicted_outputs)\n",
    "plt.show()"
   ]
  },
  {
   "cell_type": "markdown",
   "metadata": {},
   "source": [
    "## CIFAR10"
   ]
  },
  {
   "cell_type": "code",
   "execution_count": null,
   "metadata": {},
   "outputs": [],
   "source": [
    "print(\"Statistical description of uncertainty values:\")\n",
    "print(describe(CIFAR10_uncertainties))\n",
    "print(\"Histogram of uncertainty values:\")\n",
    "plt.hist(CIFAR10_uncertainties)\n",
    "plt.show()"
   ]
  },
  {
   "cell_type": "code",
   "execution_count": null,
   "metadata": {},
   "outputs": [],
   "source": [
    "plt.scatter(x = CIFAR10_output_values_of_predicted_outputs, y = CIFAR10_uncertainties)\n",
    "print(\"Scatterplot of softmax value of predicted output (x) and uncertainty (y):\")\n",
    "plt.show()"
   ]
  },
  {
   "cell_type": "code",
   "execution_count": null,
   "metadata": {},
   "outputs": [],
   "source": [
    "print(\"Variance of singular LeNet's outputs for each input\")\n",
    "print(describe(CIFAR10_variance))\n",
    "plt.hist(CIFAR10_variance)\n",
    "plt.show()"
   ]
  },
  {
   "cell_type": "code",
   "execution_count": null,
   "metadata": {},
   "outputs": [],
   "source": [
    "print(len(CIFAR10_different_instances_between_voting_and_averaging))\n",
    "print(1 - len(CIFAR10_different_instances_between_voting_and_averaging)/len(CIFAR10_testX))\n",
    "print(describe(CIFAR10_vote_ratios_of_predicted_outputs))\n",
    "plt.hist(CIFAR10_vote_ratios_of_predicted_outputs)\n",
    "plt.show()"
   ]
  }
 ],
 "metadata": {
  "kernelspec": {
   "display_name": "Python 3",
   "language": "python",
   "name": "python3"
  },
  "language_info": {
   "codemirror_mode": {
    "name": "ipython",
    "version": 3
   },
   "file_extension": ".py",
   "mimetype": "text/x-python",
   "name": "python",
   "nbconvert_exporter": "python",
   "pygments_lexer": "ipython3",
   "version": "3.7.6"
  }
 },
 "nbformat": 4,
 "nbformat_minor": 2
}
