{
 "cells": [
  {
   "cell_type": "code",
   "execution_count": 1,
   "metadata": {
    "scrolled": true
   },
   "outputs": [
    {
     "name": "stderr",
     "output_type": "stream",
     "text": [
      "/users/ai/u7ysrv/anaconda3/envs/samel/lib/python3.7/site-packages/tensorflow/python/framework/dtypes.py:516: FutureWarning: Passing (type, 1) or '1type' as a synonym of type is deprecated; in a future version of numpy, it will be understood as (type, (1,)) / '(1,)type'.\n",
      "  _np_qint8 = np.dtype([(\"qint8\", np.int8, 1)])\n",
      "/users/ai/u7ysrv/anaconda3/envs/samel/lib/python3.7/site-packages/tensorflow/python/framework/dtypes.py:517: FutureWarning: Passing (type, 1) or '1type' as a synonym of type is deprecated; in a future version of numpy, it will be understood as (type, (1,)) / '(1,)type'.\n",
      "  _np_quint8 = np.dtype([(\"quint8\", np.uint8, 1)])\n",
      "/users/ai/u7ysrv/anaconda3/envs/samel/lib/python3.7/site-packages/tensorflow/python/framework/dtypes.py:518: FutureWarning: Passing (type, 1) or '1type' as a synonym of type is deprecated; in a future version of numpy, it will be understood as (type, (1,)) / '(1,)type'.\n",
      "  _np_qint16 = np.dtype([(\"qint16\", np.int16, 1)])\n",
      "/users/ai/u7ysrv/anaconda3/envs/samel/lib/python3.7/site-packages/tensorflow/python/framework/dtypes.py:519: FutureWarning: Passing (type, 1) or '1type' as a synonym of type is deprecated; in a future version of numpy, it will be understood as (type, (1,)) / '(1,)type'.\n",
      "  _np_quint16 = np.dtype([(\"quint16\", np.uint16, 1)])\n",
      "/users/ai/u7ysrv/anaconda3/envs/samel/lib/python3.7/site-packages/tensorflow/python/framework/dtypes.py:520: FutureWarning: Passing (type, 1) or '1type' as a synonym of type is deprecated; in a future version of numpy, it will be understood as (type, (1,)) / '(1,)type'.\n",
      "  _np_qint32 = np.dtype([(\"qint32\", np.int32, 1)])\n",
      "/users/ai/u7ysrv/anaconda3/envs/samel/lib/python3.7/site-packages/tensorflow/python/framework/dtypes.py:525: FutureWarning: Passing (type, 1) or '1type' as a synonym of type is deprecated; in a future version of numpy, it will be understood as (type, (1,)) / '(1,)type'.\n",
      "  np_resource = np.dtype([(\"resource\", np.ubyte, 1)])\n",
      "/users/ai/u7ysrv/anaconda3/envs/samel/lib/python3.7/site-packages/tensorboard/compat/tensorflow_stub/dtypes.py:541: FutureWarning: Passing (type, 1) or '1type' as a synonym of type is deprecated; in a future version of numpy, it will be understood as (type, (1,)) / '(1,)type'.\n",
      "  _np_qint8 = np.dtype([(\"qint8\", np.int8, 1)])\n",
      "/users/ai/u7ysrv/anaconda3/envs/samel/lib/python3.7/site-packages/tensorboard/compat/tensorflow_stub/dtypes.py:542: FutureWarning: Passing (type, 1) or '1type' as a synonym of type is deprecated; in a future version of numpy, it will be understood as (type, (1,)) / '(1,)type'.\n",
      "  _np_quint8 = np.dtype([(\"quint8\", np.uint8, 1)])\n",
      "/users/ai/u7ysrv/anaconda3/envs/samel/lib/python3.7/site-packages/tensorboard/compat/tensorflow_stub/dtypes.py:543: FutureWarning: Passing (type, 1) or '1type' as a synonym of type is deprecated; in a future version of numpy, it will be understood as (type, (1,)) / '(1,)type'.\n",
      "  _np_qint16 = np.dtype([(\"qint16\", np.int16, 1)])\n",
      "/users/ai/u7ysrv/anaconda3/envs/samel/lib/python3.7/site-packages/tensorboard/compat/tensorflow_stub/dtypes.py:544: FutureWarning: Passing (type, 1) or '1type' as a synonym of type is deprecated; in a future version of numpy, it will be understood as (type, (1,)) / '(1,)type'.\n",
      "  _np_quint16 = np.dtype([(\"quint16\", np.uint16, 1)])\n",
      "/users/ai/u7ysrv/anaconda3/envs/samel/lib/python3.7/site-packages/tensorboard/compat/tensorflow_stub/dtypes.py:545: FutureWarning: Passing (type, 1) or '1type' as a synonym of type is deprecated; in a future version of numpy, it will be understood as (type, (1,)) / '(1,)type'.\n",
      "  _np_qint32 = np.dtype([(\"qint32\", np.int32, 1)])\n",
      "/users/ai/u7ysrv/anaconda3/envs/samel/lib/python3.7/site-packages/tensorboard/compat/tensorflow_stub/dtypes.py:550: FutureWarning: Passing (type, 1) or '1type' as a synonym of type is deprecated; in a future version of numpy, it will be understood as (type, (1,)) / '(1,)type'.\n",
      "  np_resource = np.dtype([(\"resource\", np.ubyte, 1)])\n",
      "Using TensorFlow backend.\n"
     ]
    }
   ],
   "source": [
    "import numpy as np\n",
    "import pandas as pd\n",
    "import tensorflow as tf\n",
    "#from tensorflow import keras\n",
    "import keras\n",
    "import matplotlib.pyplot as plt\n",
    "from vis.visualization import visualize_saliency\n",
    "from vis.visualization import get_num_filters\n",
    "from vis.visualization import visualize_saliency_init\n",
    "from vis.visualization import visualize_saliency_run\n",
    "from vis.utils import utils\n",
    "from tqdm import tqdm\n",
    "from scipy.stats import describe\n",
    "from scipy.stats import iqr\n",
    "from scipy.stats import variation\n",
    "import os\n",
    "import imageio"
   ]
  },
  {
   "cell_type": "markdown",
   "metadata": {},
   "source": [
    "# 1. Loading Data "
   ]
  },
  {
   "cell_type": "markdown",
   "metadata": {},
   "source": [
    "## Read dataset"
   ]
  },
  {
   "cell_type": "code",
   "execution_count": 2,
   "metadata": {},
   "outputs": [],
   "source": [
    "data = tf.keras.datasets.mnist"
   ]
  },
  {
   "cell_type": "code",
   "execution_count": 3,
   "metadata": {},
   "outputs": [],
   "source": [
    "(trainX, trainY),(testX, testY) = data.load_data()"
   ]
  },
  {
   "cell_type": "code",
   "execution_count": 4,
   "metadata": {},
   "outputs": [],
   "source": [
    "trainX = trainX.reshape((trainX.shape[0], 28, 28, 1))\n",
    "testX = testX.reshape((testX.shape[0], 28, 28, 1))"
   ]
  },
  {
   "cell_type": "code",
   "execution_count": 5,
   "metadata": {},
   "outputs": [],
   "source": [
    "trainY = keras.utils.to_categorical(trainY, 10)\n",
    "testY = keras.utils.to_categorical(testY, 10)"
   ]
  },
  {
   "cell_type": "code",
   "execution_count": 6,
   "metadata": {},
   "outputs": [],
   "source": [
    "trainX = trainX.astype(\"float32\") / 255.0\n",
    "testX = testX.astype(\"float32\") / 255.0"
   ]
  },
  {
   "cell_type": "code",
   "execution_count": 7,
   "metadata": {
    "scrolled": true
   },
   "outputs": [
    {
     "name": "stdout",
     "output_type": "stream",
     "text": [
      "(60000, 28, 28, 1)\n"
     ]
    }
   ],
   "source": [
    "print(trainX.shape)"
   ]
  },
  {
   "cell_type": "code",
   "execution_count": 8,
   "metadata": {},
   "outputs": [
    {
     "data": {
      "text/plain": [
       "DescribeResult(nobs=7840000, minmax=(0.0, 1.0), mean=0.13251467, variance=0.09639801, skewness=2.1285581588745117, kurtosis=2.809452489039299)"
      ]
     },
     "execution_count": 8,
     "metadata": {},
     "output_type": "execute_result"
    }
   ],
   "source": [
    "describe(testX,axis=None)"
   ]
  },
  {
   "cell_type": "markdown",
   "metadata": {},
   "source": [
    "# Training"
   ]
  },
  {
   "cell_type": "markdown",
   "metadata": {},
   "source": [
    "## Code for training"
   ]
  },
  {
   "cell_type": "code",
   "execution_count": 9,
   "metadata": {},
   "outputs": [
    {
     "name": "stdout",
     "output_type": "stream",
     "text": [
      "WARNING:tensorflow:From /users/ai/u7ysrv/anaconda3/envs/samel/lib/python3.7/site-packages/keras/backend/tensorflow_backend.py:74: The name tf.get_default_graph is deprecated. Please use tf.compat.v1.get_default_graph instead.\n",
      "\n",
      "WARNING:tensorflow:From /users/ai/u7ysrv/anaconda3/envs/samel/lib/python3.7/site-packages/keras/backend/tensorflow_backend.py:517: The name tf.placeholder is deprecated. Please use tf.compat.v1.placeholder instead.\n",
      "\n",
      "WARNING:tensorflow:From /users/ai/u7ysrv/anaconda3/envs/samel/lib/python3.7/site-packages/keras/backend/tensorflow_backend.py:4138: The name tf.random_uniform is deprecated. Please use tf.random.uniform instead.\n",
      "\n",
      "WARNING:tensorflow:From /users/ai/u7ysrv/anaconda3/envs/samel/lib/python3.7/site-packages/keras/backend/tensorflow_backend.py:3976: The name tf.nn.max_pool is deprecated. Please use tf.nn.max_pool2d instead.\n",
      "\n"
     ]
    }
   ],
   "source": [
    "#Creates Sequential model using Keras\n",
    "#Number of nodes is the same as number of features (different number of nodes were tried but it did not\n",
    "#affect validation accuracy significantly)\n",
    "lenet = keras.Sequential([\n",
    "                            #Input layer:\n",
    "                            keras.layers.Conv2D(20, 5, padding=\"same\", input_shape=[28,28,1], use_bias=True),\n",
    "                            #Hidden Layers:\n",
    "                            keras.layers.Activation(activation=\"relu\"),\n",
    "                            keras.layers.MaxPooling2D(pool_size=(2, 2), strides=(2, 2)),\n",
    "                            keras.layers.Conv2D(50, 5, padding=\"same\"),\n",
    "                            keras.layers.Activation(activation=\"relu\"),\n",
    "                            keras.layers.MaxPooling2D(pool_size=(2, 2), strides=(2, 2)),\n",
    "                            keras.layers.Flatten(),\n",
    "                            keras.layers.Dense(500),\n",
    "                            keras.layers.Activation(activation=\"relu\"),\n",
    "                            keras.layers.Dense(10, name='vis',use_bias=True),\n",
    "                            #Output layer\n",
    "                            keras.layers.Activation(activation=\"softmax\"),\n",
    "                        ])"
   ]
  },
  {
   "cell_type": "code",
   "execution_count": 10,
   "metadata": {},
   "outputs": [],
   "source": [
    "#lenets = [keras.models.clone_model(lenet),keras.models.clone_model(lenet),keras.models.clone_model(lenet),keras.models.clone_model(lenet),keras.models.clone_model(lenet),keras.models.clone_model(lenet)]"
   ]
  },
  {
   "cell_type": "code",
   "execution_count": 11,
   "metadata": {},
   "outputs": [],
   "source": [
    "classifier_number = 5\n",
    "lenets = [keras.models.clone_model(lenet)]\n",
    "for i in range(1,classifier_number):\n",
    "    lenets.append(keras.models.clone_model(lenet))"
   ]
  },
  {
   "cell_type": "code",
   "execution_count": 12,
   "metadata": {
    "scrolled": false
   },
   "outputs": [
    {
     "name": "stdout",
     "output_type": "stream",
     "text": [
      "WARNING:tensorflow:From /users/ai/u7ysrv/anaconda3/envs/samel/lib/python3.7/site-packages/keras/optimizers.py:790: The name tf.train.Optimizer is deprecated. Please use tf.compat.v1.train.Optimizer instead.\n",
      "\n",
      "WARNING:tensorflow:From /users/ai/u7ysrv/anaconda3/envs/samel/lib/python3.7/site-packages/keras/backend/tensorflow_backend.py:3295: The name tf.log is deprecated. Please use tf.math.log instead.\n",
      "\n",
      "WARNING:tensorflow:From /users/ai/u7ysrv/anaconda3/envs/samel/lib/python3.7/site-packages/tensorflow/python/ops/math_grad.py:1250: add_dispatch_support.<locals>.wrapper (from tensorflow.python.ops.array_ops) is deprecated and will be removed in a future version.\n",
      "Instructions for updating:\n",
      "Use tf.where in 2.0, which has the same broadcast rule as np.where\n",
      "WARNING:tensorflow:From /users/ai/u7ysrv/anaconda3/envs/samel/lib/python3.7/site-packages/keras/backend/tensorflow_backend.py:986: The name tf.assign_add is deprecated. Please use tf.compat.v1.assign_add instead.\n",
      "\n",
      "Train on 60000 samples, validate on 10000 samples\n",
      "Epoch 1/5\n",
      "60000/60000 [==============================] - 16s 272us/step - loss: 0.4133 - acc: 0.8797 - val_loss: 0.1312 - val_acc: 0.9595\n",
      "Epoch 2/5\n",
      "60000/60000 [==============================] - 12s 200us/step - loss: 0.1100 - acc: 0.9668 - val_loss: 0.0966 - val_acc: 0.9693\n",
      "Epoch 3/5\n",
      "60000/60000 [==============================] - 12s 201us/step - loss: 0.0765 - acc: 0.9760 - val_loss: 0.0610 - val_acc: 0.9801\n",
      "Epoch 4/5\n",
      "60000/60000 [==============================] - 12s 201us/step - loss: 0.0616 - acc: 0.9813 - val_loss: 0.0512 - val_acc: 0.9838\n",
      "Epoch 5/5\n",
      "60000/60000 [==============================] - 12s 204us/step - loss: 0.0520 - acc: 0.9838 - val_loss: 0.0436 - val_acc: 0.9856\n"
     ]
    }
   ],
   "source": [
    "#Compiles sequential model\n",
    "#Using learning rate 0.01\n",
    "#Loss function will be categorical crossentropy\n",
    "lenet.compile(\n",
    "                optimizer=keras.optimizers.SGD(lr=0.01),\n",
    "                loss = 'categorical_crossentropy',\n",
    "                metrics = ['accuracy']\n",
    "                )\n",
    "#Trains network over a number of epochs and evaluates network agains validation data\n",
    "#after each epoch\n",
    "lenetEpochHistory = lenet.fit(trainX, trainY, epochs = 5, validation_data = (testX, testY))"
   ]
  },
  {
   "cell_type": "code",
   "execution_count": 13,
   "metadata": {
    "scrolled": false
   },
   "outputs": [
    {
     "name": "stdout",
     "output_type": "stream",
     "text": [
      "Train on 60000 samples, validate on 10000 samples\n",
      "Epoch 1/5\n",
      "60000/60000 [==============================] - 13s 212us/step - loss: 0.4177 - acc: 0.8834 - val_loss: 0.1204 - val_acc: 0.9610\n",
      "Epoch 2/5\n",
      "60000/60000 [==============================] - 12s 205us/step - loss: 0.1043 - acc: 0.9681 - val_loss: 0.0817 - val_acc: 0.9745\n",
      "Epoch 3/5\n",
      "60000/60000 [==============================] - 12s 202us/step - loss: 0.0727 - acc: 0.9778 - val_loss: 0.0557 - val_acc: 0.9821\n",
      "Epoch 4/5\n",
      "60000/60000 [==============================] - 12s 199us/step - loss: 0.0577 - acc: 0.9822 - val_loss: 0.0491 - val_acc: 0.9834\n",
      "Epoch 5/5\n",
      "60000/60000 [==============================] - 12s 201us/step - loss: 0.0488 - acc: 0.9849 - val_loss: 0.0440 - val_acc: 0.9864\n",
      "Train on 60000 samples, validate on 10000 samples\n",
      "Epoch 1/5\n",
      "60000/60000 [==============================] - 13s 209us/step - loss: 0.4360 - acc: 0.8797 - val_loss: 0.1323 - val_acc: 0.9591\n",
      "Epoch 2/5\n",
      "60000/60000 [==============================] - 12s 203us/step - loss: 0.1100 - acc: 0.9676 - val_loss: 0.0720 - val_acc: 0.9776\n",
      "Epoch 3/5\n",
      "60000/60000 [==============================] - 12s 201us/step - loss: 0.0762 - acc: 0.9775 - val_loss: 0.0619 - val_acc: 0.9781\n",
      "Epoch 4/5\n",
      "60000/60000 [==============================] - 12s 201us/step - loss: 0.0601 - acc: 0.9820 - val_loss: 0.0460 - val_acc: 0.9835\n",
      "Epoch 5/5\n",
      "60000/60000 [==============================] - 12s 202us/step - loss: 0.0508 - acc: 0.9846 - val_loss: 0.0381 - val_acc: 0.9867\n",
      "Train on 60000 samples, validate on 10000 samples\n",
      "Epoch 1/5\n",
      "60000/60000 [==============================] - 13s 211us/step - loss: 0.4408 - acc: 0.8695 - val_loss: 0.1443 - val_acc: 0.9532\n",
      "Epoch 2/5\n",
      "60000/60000 [==============================] - 12s 204us/step - loss: 0.1157 - acc: 0.9652 - val_loss: 0.0776 - val_acc: 0.9771\n",
      "Epoch 3/5\n",
      "60000/60000 [==============================] - 12s 201us/step - loss: 0.0773 - acc: 0.9763 - val_loss: 0.0550 - val_acc: 0.9817\n",
      "Epoch 4/5\n",
      "60000/60000 [==============================] - 12s 204us/step - loss: 0.0601 - acc: 0.9822 - val_loss: 0.0511 - val_acc: 0.9837\n",
      "Epoch 5/5\n",
      "60000/60000 [==============================] - 12s 203us/step - loss: 0.0496 - acc: 0.9851 - val_loss: 0.0476 - val_acc: 0.9842\n",
      "Train on 60000 samples, validate on 10000 samples\n",
      "Epoch 1/5\n",
      "60000/60000 [==============================] - 13s 215us/step - loss: 0.4089 - acc: 0.8829 - val_loss: 0.1194 - val_acc: 0.9637\n",
      "Epoch 2/5\n",
      "60000/60000 [==============================] - 12s 203us/step - loss: 0.1099 - acc: 0.9663 - val_loss: 0.0749 - val_acc: 0.9757\n",
      "Epoch 3/5\n",
      "60000/60000 [==============================] - 12s 202us/step - loss: 0.0763 - acc: 0.9773 - val_loss: 0.0563 - val_acc: 0.9817\n",
      "Epoch 4/5\n",
      "60000/60000 [==============================] - 12s 202us/step - loss: 0.0607 - acc: 0.9811 - val_loss: 0.0440 - val_acc: 0.9864\n",
      "Epoch 5/5\n",
      "60000/60000 [==============================] - 12s 202us/step - loss: 0.0513 - acc: 0.9845 - val_loss: 0.0443 - val_acc: 0.9848\n",
      "Train on 60000 samples, validate on 10000 samples\n",
      "Epoch 1/5\n",
      "60000/60000 [==============================] - 12s 204us/step - loss: 0.4036 - acc: 0.8836 - val_loss: 0.1301 - val_acc: 0.9605\n",
      "Epoch 2/5\n",
      "60000/60000 [==============================] - 12s 196us/step - loss: 0.1074 - acc: 0.9676 - val_loss: 0.0743 - val_acc: 0.9773\n",
      "Epoch 3/5\n",
      "60000/60000 [==============================] - 12s 196us/step - loss: 0.0746 - acc: 0.9771 - val_loss: 0.0521 - val_acc: 0.9839\n",
      "Epoch 4/5\n",
      "60000/60000 [==============================] - 12s 196us/step - loss: 0.0602 - acc: 0.9817 - val_loss: 0.0467 - val_acc: 0.9845\n",
      "Epoch 5/5\n",
      "60000/60000 [==============================] - 12s 195us/step - loss: 0.0505 - acc: 0.9847 - val_loss: 0.0390 - val_acc: 0.9859\n"
     ]
    }
   ],
   "source": [
    "#Compiles sequential model\n",
    "#Using learning rate 0.01\n",
    "#Loss function will be categorical crossentropy\n",
    "for model in lenets:\n",
    "    model.compile(\n",
    "                    optimizer=keras.optimizers.SGD(lr=0.01),\n",
    "                    loss = 'categorical_crossentropy',\n",
    "                    metrics = ['accuracy']\n",
    "                    )\n",
    "#Trains network over a number of epochs and evaluates network agains validation data\n",
    "#after each epoch\n",
    "for model in lenets:\n",
    "    model.fit(trainX, trainY, epochs = 5, validation_data = (testX, testY))"
   ]
  },
  {
   "cell_type": "markdown",
   "metadata": {},
   "source": [
    "# General Evaluation"
   ]
  },
  {
   "cell_type": "code",
   "execution_count": 14,
   "metadata": {},
   "outputs": [
    {
     "name": "stdout",
     "output_type": "stream",
     "text": [
      "6\n",
      "6\n"
     ]
    }
   ],
   "source": [
    "#Predicting Label:\n",
    "\n",
    "print(np.argmax(lenet.predict(testX)[100]))\n",
    "print(np.argmax(testY[100]))"
   ]
  },
  {
   "cell_type": "code",
   "execution_count": 15,
   "metadata": {
    "scrolled": false
   },
   "outputs": [
    {
     "name": "stdout",
     "output_type": "stream",
     "text": [
      "10000/10000 [==============================] - 1s 78us/step\n",
      "Lenet accuracy:  0.9856\n",
      "Lenet loss:  0.04356702570673078\n"
     ]
    },
    {
     "data": {
      "image/png": "[encoded data removed]",
      "text/plain": [
       "<Figure size 432x288 with 1 Axes>"
      ]
     },
     "metadata": {
      "needs_background": "light"
     },
     "output_type": "display_data"
    },
    {
     "data": {
      "image/png": "[encoded data removed]",
      "text/plain": [
       "<Figure size 432x288 with 1 Axes>"
      ]
     },
     "metadata": {
      "needs_background": "light"
     },
     "output_type": "display_data"
    }
   ],
   "source": [
    "#Get accuracy for lenet\n",
    "sequentialLoss, sequentialAccuracy = lenet.evaluate(testX, testY)\n",
    "print('Lenet accuracy: ', sequentialAccuracy)\n",
    "print('Lenet loss: ', sequentialLoss)\n",
    "\n",
    "plt.plot(lenetEpochHistory.history['acc'])\n",
    "plt.plot(lenetEpochHistory.history['val_acc'])\n",
    "plt.title('Neural Network accuracy per epoch')\n",
    "plt.ylabel('Accuracy')\n",
    "plt.xlabel('Epoch')\n",
    "plt.legend(['Training data', 'Validation data'])\n",
    "plt.show()\n",
    "\n",
    "plt.plot(lenetEpochHistory.history['loss'])\n",
    "plt.plot(lenetEpochHistory.history['val_loss'])\n",
    "plt.title('Neural Network loss per epoch')\n",
    "plt.ylabel('Loss')\n",
    "plt.xlabel('Epoch')\n",
    "plt.legend(['Training data', 'Validation data'])\n",
    "plt.show()"
   ]
  },
  {
   "cell_type": "code",
   "execution_count": 16,
   "metadata": {},
   "outputs": [
    {
     "ename": "NameError",
     "evalue": "name 'get_ensemble_output' is not defined",
     "output_type": "error",
     "traceback": [
      "\u001b[0;31m---------------------------------------------------------------------------\u001b[0m",
      "\u001b[0;31mNameError\u001b[0m                                 Traceback (most recent call last)",
      "\u001b[0;32m<ipython-input-16-e8b94a46e80e>\u001b[0m in \u001b[0;36m<module>\u001b[0;34m\u001b[0m\n\u001b[1;32m      1\u001b[0m \u001b[0mcorrect\u001b[0m \u001b[0;34m=\u001b[0m \u001b[0;36m0\u001b[0m\u001b[0;34m\u001b[0m\u001b[0;34m\u001b[0m\u001b[0m\n\u001b[1;32m      2\u001b[0m \u001b[0;32mfor\u001b[0m \u001b[0mi\u001b[0m \u001b[0;32min\u001b[0m \u001b[0mrange\u001b[0m\u001b[0;34m(\u001b[0m\u001b[0;36m0\u001b[0m\u001b[0;34m,\u001b[0m\u001b[0mlen\u001b[0m\u001b[0;34m(\u001b[0m\u001b[0mtestX\u001b[0m\u001b[0;34m)\u001b[0m\u001b[0;34m)\u001b[0m\u001b[0;34m:\u001b[0m\u001b[0;34m\u001b[0m\u001b[0;34m\u001b[0m\u001b[0m\n\u001b[0;32m----> 3\u001b[0;31m     \u001b[0;32mif\u001b[0m \u001b[0;34m(\u001b[0m\u001b[0mget_ensemble_output\u001b[0m\u001b[0;34m(\u001b[0m\u001b[0mlenets\u001b[0m\u001b[0;34m,\u001b[0m\u001b[0mtestX\u001b[0m\u001b[0;34m[\u001b[0m\u001b[0mi\u001b[0m\u001b[0;34m]\u001b[0m\u001b[0;34m,\u001b[0m\u001b[0;36m10\u001b[0m\u001b[0;34m)\u001b[0m \u001b[0;34m==\u001b[0m \u001b[0mnp\u001b[0m\u001b[0;34m.\u001b[0m\u001b[0margmax\u001b[0m\u001b[0;34m(\u001b[0m\u001b[0mtestY\u001b[0m\u001b[0;34m[\u001b[0m\u001b[0mi\u001b[0m\u001b[0;34m]\u001b[0m\u001b[0;34m)\u001b[0m\u001b[0;34m)\u001b[0m\u001b[0;34m:\u001b[0m\u001b[0;34m\u001b[0m\u001b[0;34m\u001b[0m\u001b[0m\n\u001b[0m\u001b[1;32m      4\u001b[0m         \u001b[0mcorrect\u001b[0m \u001b[0;34m=\u001b[0m \u001b[0mcorrect\u001b[0m \u001b[0;34m+\u001b[0m \u001b[0;36m1\u001b[0m\u001b[0;34m\u001b[0m\u001b[0;34m\u001b[0m\u001b[0m\n\u001b[1;32m      5\u001b[0m \u001b[0;34m\u001b[0m\u001b[0m\n",
      "\u001b[0;31mNameError\u001b[0m: name 'get_ensemble_output' is not defined"
     ]
    }
   ],
   "source": [
    "correct = 0\n",
    "for i in range(0,len(testX)):\n",
    "    if (get_ensemble_output(lenets,testX[i],10) == np.argmax(testY[i])):\n",
    "        correct = correct + 1\n",
    "        "
   ]
  },
  {
   "cell_type": "code",
   "execution_count": null,
   "metadata": {},
   "outputs": [],
   "source": [
    "print(correct)\n",
    "print(len(testX))"
   ]
  },
  {
   "cell_type": "markdown",
   "metadata": {},
   "source": [
    "# Saliency"
   ]
  },
  {
   "cell_type": "code",
   "execution_count": 16,
   "metadata": {},
   "outputs": [
    {
     "data": {
      "text/plain": [
       "9"
      ]
     },
     "execution_count": 16,
     "metadata": {},
     "output_type": "execute_result"
    }
   ],
   "source": [
    "#This line outputs the layer_idx that the saliency is meant to be extracted from. (Usually the output layer pre-activation)\n",
    "utils.find_layer_idx(lenet, 'vis')"
   ]
  },
  {
   "cell_type": "code",
   "execution_count": 17,
   "metadata": {},
   "outputs": [
    {
     "data": {
      "text/plain": [
       "10"
      ]
     },
     "execution_count": 17,
     "metadata": {},
     "output_type": "execute_result"
    }
   ],
   "source": [
    "#Check if that layer is correct by checking if the number of nodes matches the number of outputs\n",
    "get_num_filters(lenet.layers[9])"
   ]
  },
  {
   "cell_type": "code",
   "execution_count": 18,
   "metadata": {},
   "outputs": [
    {
     "data": {
      "image/png": "[encoded data removed]",
      "text/plain": [
       "<Figure size 432x288 with 2 Axes>"
      ]
     },
     "metadata": {
      "needs_background": "light"
     },
     "output_type": "display_data"
    }
   ],
   "source": [
    "#Check if the saliency map is working for the singular network\n",
    "input_idx = 1\n",
    "fig, ax = plt.subplots(nrows=1, ncols=2)\n",
    "saliency_map = visualize_saliency(model = lenet,layer_idx = 9, filter_indices = np.argmax(testY[input_idx]), seed_input = testX[input_idx])\n",
    "ax[0].imshow(saliency_map.reshape(28,28),interpolation='nearest')\n",
    "ax[1].imshow(testX[input_idx].reshape(28,28))\n",
    "plt.show()"
   ]
  },
  {
   "cell_type": "code",
   "execution_count": 19,
   "metadata": {},
   "outputs": [],
   "source": [
    "# Get optimisers for each network's output node to speed up saliency processing\n",
    "optimisers = []\n",
    "classifiers = lenets\n",
    "for i in range(0,len(classifiers)):\n",
    "    classifier_optmisers = []\n",
    "    for j in range(0,10):\n",
    "        opt = visualize_saliency_init(classifiers[i],9,filter_indices=j)\n",
    "        classifier_optmisers.append(opt)\n",
    "    optimisers.append(classifier_optmisers)\n",
    "        "
   ]
  },
  {
   "cell_type": "code",
   "execution_count": 20,
   "metadata": {},
   "outputs": [],
   "source": [
    "#Function to calculate ensemble outputs (for series of inputs) using mean of outputs\n",
    "def get_ensenmble_outputs(classifiers,classifier_inputs,number_of_outputs):\n",
    "    predictions = np.zeros((np.size(classifier_inputs, axis=0), np.size(number_of_outputs)))\n",
    "    for classifier in classifiers:\n",
    "        predictions = predictions + classifier.predict(classifier_inputs)\n",
    "    prediction_average = predictions / classifier_number\n",
    "    outputs = np.apply_along_axis(np.argmax, axis=1, arr=prediction_average)\n",
    "    return(outputs)\n",
    "        "
   ]
  },
  {
   "cell_type": "code",
   "execution_count": 21,
   "metadata": {},
   "outputs": [],
   "source": [
    "#Function to calculate ensemble output (for one input) using mean of outputs\n",
    "def get_ensemble_output(classifiers,classifier_input,number_of_outputs):\n",
    "    predictions = np.zeros(np.size(number_of_outputs))\n",
    "    for classifier in classifiers:\n",
    "        predictions = predictions + classifier.predict(np.expand_dims(classifier_input,axis=0))\n",
    "    prediction_average = predictions / classifier_number\n",
    "    output = np.argmax(prediction_average)\n",
    "    return(output)\n",
    "        "
   ]
  },
  {
   "cell_type": "code",
   "execution_count": 22,
   "metadata": {},
   "outputs": [
    {
     "data": {
      "text/plain": [
       "6"
      ]
     },
     "execution_count": 22,
     "metadata": {},
     "output_type": "execute_result"
    }
   ],
   "source": [
    "get_ensemble_output(lenets,testX[100],10)"
   ]
  },
  {
   "cell_type": "code",
   "execution_count": 23,
   "metadata": {},
   "outputs": [],
   "source": [
    "correct = 0\n",
    "for i in range(0,len(testX)):\n",
    "    if (get_ensemble_output(lenets,testX[i],10) == np.argmax(testY[i])):\n",
    "        correct = correct + 1\n",
    "        "
   ]
  },
  {
   "cell_type": "code",
   "execution_count": 24,
   "metadata": {},
   "outputs": [
    {
     "name": "stdout",
     "output_type": "stream",
     "text": [
      "9886\n",
      "10000\n"
     ]
    }
   ],
   "source": [
    "print(correct)\n",
    "print(len(testX))"
   ]
  },
  {
   "cell_type": "code",
   "execution_count": 25,
   "metadata": {},
   "outputs": [],
   "source": [
    "# Function to generate multiple saliency maps for each input\n",
    "\n",
    "# If doing this over multiple inputs at a time, it is faster to go over multiple inputs\n",
    "# with the same classifier and then doing the same for the different classifiers. This is \n",
    "# because switching optimisers is computationally expensive.\n",
    "\n",
    "def generate_saliency_maps_for_one_input(classifiers,classifier_input,optimisers,visualised_layer):\n",
    "    output_node = get_ensemble_output(classifiers,classifier_input,len(optimisers))\n",
    "    saliency_maps = np.zeros((len(classifiers),classifier_input.shape[0],classifier_input.shape[1]))\n",
    "    for i in range(0,len(classifiers)):\n",
    "        saliency_maps[i] = visualize_saliency_run(model = classifiers[i],layer_idx = visualised_layer, opt = optimisers[i][output_node], seed_input = classifier_input)\n",
    "    return(saliency_maps)\n",
    "    "
   ]
  },
  {
   "cell_type": "code",
   "execution_count": 26,
   "metadata": {},
   "outputs": [],
   "source": [
    "#Function to visualise the multiple saliency maps\n",
    "def visualize_saliency_maps(classifier_input,saliency_maps):\n",
    "    fig, ax = plt.subplots(nrows=1, ncols=len(saliency_maps)+1, figsize = (15,15))\n",
    "    i = 1\n",
    "    for s_map in saliency_maps:\n",
    "        ax[i].imshow(s_map)\n",
    "        i = i+1\n",
    "    ax[0].imshow(classifier_input)\n",
    "    plt.show()"
   ]
  },
  {
   "cell_type": "code",
   "execution_count": 27,
   "metadata": {},
   "outputs": [],
   "source": [
    "# Compute difference of saliency maps using coefficient of variation\n",
    "def generate_uncertainty_map_with_CV(saliency_maps):\n",
    "    return(variation(saliency_maps,axis=0))"
   ]
  },
  {
   "cell_type": "code",
   "execution_count": 28,
   "metadata": {},
   "outputs": [],
   "source": [
    "# Compute difference of saliency maps using quartile coefficient of dispersion\n",
    "def generate_uncertainty_map_with_QCoD(saliency_maps,rng):\n",
    "    lower_quantile, higher_quantile = rng\n",
    "    lower_quantile = lower_quantile/100\n",
    "    higher_quantile = higher_quantile/100\n",
    "    return(iqr(saliency_maps,axis=0,rng=rng)/(np.quantile(saliency_maps,lower_quantile,axis=0)\n",
    "                                             + np.quantile(saliency_maps,higher_quantile,axis=0)))"
   ]
  },
  {
   "cell_type": "code",
   "execution_count": 29,
   "metadata": {},
   "outputs": [],
   "source": [
    "# Wrapper function to arrive at uncertainty output using classifiers and input\n",
    "def calculate_uncertainty(classifiers,classifier_input,optimisers,visualised_layer):\n",
    "    \n",
    "    saliency_maps = generate_saliency_maps_for_one_input(classifiers = classifiers,\n",
    "                                  classifier_input = classifier_input,\n",
    "                                  optimisers = optimisers,\n",
    "                                  visualised_layer = visualised_layer)\n",
    "    \n",
    "    uncertainty_map = generate_uncertainty_map_with_CV(saliency_maps)\n",
    "    \n",
    "    return(np.average(uncertainty_map))\n"
   ]
  },
  {
   "cell_type": "code",
   "execution_count": 30,
   "metadata": {},
   "outputs": [],
   "source": [
    "# Compute difference of saliency maps\n",
    "def calculate_CV_uncertainty_with_maps(saliency_maps):\n",
    "    return(np.mean(generate_uncertainty_map_with_CV(saliency_maps)))"
   ]
  },
  {
   "cell_type": "code",
   "execution_count": 31,
   "metadata": {},
   "outputs": [],
   "source": [
    "# Compute difference of saliency maps\n",
    "def calculate_QCoD_uncertainty_with_maps(saliency_maps,rng):\n",
    "    return(np.mean(generate_uncertainty_map_with_QCoD(saliency_maps,rng=rng)))"
   ]
  },
  {
   "cell_type": "code",
   "execution_count": 32,
   "metadata": {},
   "outputs": [],
   "source": [
    "def generate_saliency_maps_for_multiple_inputs(classifier,classifier_inputs,classifier_outputs,\n",
    "                                               classifier_optimisers,visualised_layer):\n",
    "    \n",
    "    saliency_maps = []\n",
    "    for input_idx in tqdm(range(0,np.size(classifier_inputs,axis=0))):\n",
    "        classifier_input = classifier_inputs[input_idx]\n",
    "        output_node = classifier_outputs[input_idx]\n",
    "        saliency_maps.append(visualize_saliency_run(model = classifier,\n",
    "                                                    layer_idx = 9, \n",
    "                                                    opt = classifier_optimisers[output_node],   \n",
    "                                                    seed_input = classifier_input))\n",
    "    return(saliency_maps)\n"
   ]
  },
  {
   "cell_type": "code",
   "execution_count": 33,
   "metadata": {},
   "outputs": [],
   "source": [
    "def generate_ensemble_saliency_maps_for_multiple_inputs(classifiers,\n",
    "                                                        classifier_inputs,classifier_outputs,\n",
    "                                                        optimisers,visualised_layer):\n",
    "    saliency_maps = []\n",
    "    for classifier_idx in range(0,len(classifiers)):\n",
    "        saliency_maps.append(generate_saliency_maps_for_multiple_inputs(\n",
    "                                classifiers[classifier_idx],\n",
    "                                classifier_inputs,\n",
    "                                classifier_outputs,\n",
    "                                optimisers[classifier_idx],\n",
    "                                9))\n",
    "    return(saliency_maps)\n",
    "    "
   ]
  },
  {
   "cell_type": "markdown",
   "metadata": {},
   "source": [
    "# MNIST"
   ]
  },
  {
   "cell_type": "code",
   "execution_count": 34,
   "metadata": {
    "scrolled": false
   },
   "outputs": [],
   "source": [
    "MNIST_ensemble_predicted_outputs = get_ensenmble_outputs(lenets, testX,10)"
   ]
  },
  {
   "cell_type": "code",
   "execution_count": 35,
   "metadata": {
    "scrolled": true
   },
   "outputs": [],
   "source": [
    "# Generate saliency maps examples\n",
    "input_idx = 1\n",
    "maps = generate_saliency_maps_for_one_input(classifiers = lenets,\n",
    "                                            classifier_input = testX[input_idx],\n",
    "                                            optimisers = optimisers,\n",
    "                                            visualised_layer = 9)"
   ]
  },
  {
   "cell_type": "code",
   "execution_count": 36,
   "metadata": {},
   "outputs": [
    {
     "data": {
      "image/png": "[encoded data removed]",
      "text/plain": [
       "<Figure size 1080x1080 with 6 Axes>"
      ]
     },
     "metadata": {
      "needs_background": "light"
     },
     "output_type": "display_data"
    }
   ],
   "source": [
    "# Visualise saliency maps examples\n",
    "visualize_saliency_maps(classifier_input = testX[input_idx].reshape(28,28),\n",
    "                        saliency_maps = maps)"
   ]
  },
  {
   "cell_type": "code",
   "execution_count": 37,
   "metadata": {},
   "outputs": [
    {
     "name": "stdout",
     "output_type": "stream",
     "text": [
      "DescribeResult(nobs=784, minmax=(0.0, 0.9999998211860657), mean=0.12462816291861029, variance=0.02245210967153496, skewness=2.2093026504600504, kurtosis=5.888378774644584)\n",
      "DescribeResult(nobs=784, minmax=(0.0, 0.9999998211860657), mean=0.11768951452390587, variance=0.018974922920137752, skewness=2.554826983488466, kurtosis=8.551589695792433)\n",
      "DescribeResult(nobs=784, minmax=(0.0, 0.9999998211860657), mean=0.15467507515725684, variance=0.02769861457067722, skewness=1.917547549281095, kurtosis=4.067012223181022)\n",
      "DescribeResult(nobs=784, minmax=(0.0, 0.9999997615814209), mean=0.16074069807488128, variance=0.03426539801186234, skewness=1.8313403249684308, kurtosis=3.1646571729918866)\n",
      "DescribeResult(nobs=784, minmax=(0.0, 0.9999997615814209), mean=0.16010673029130867, variance=0.029212431393582376, skewness=2.0212178389991995, kurtosis=4.632924158472827)\n"
     ]
    }
   ],
   "source": [
    "for mapx in maps:\n",
    "    print(describe(mapx,axis=None))"
   ]
  },
  {
   "cell_type": "code",
   "execution_count": 38,
   "metadata": {},
   "outputs": [
    {
     "data": {
      "image/png": "[encoded data removed]",
      "text/plain": [
       "<Figure size 432x288 with 1 Axes>"
      ]
     },
     "metadata": {
      "needs_background": "light"
     },
     "output_type": "display_data"
    }
   ],
   "source": [
    "# Visualise uncertainty map example\n",
    "x = 40\n",
    "y = 60\n",
    "#uncertainty_map = generate_uncertainty_map_with_QCoD(maps,rng=(x,y))\n",
    "#uncertainty_map = generate_uncertainty_map_with_QCoD(maps,rng=(20,100))\n",
    "uncertainty_map = generate_uncertainty_map_with_CV(maps)\n",
    "plt.imshow(uncertainty_map)\n",
    "plt.show()"
   ]
  },
  {
   "cell_type": "code",
   "execution_count": 39,
   "metadata": {},
   "outputs": [
    {
     "data": {
      "text/plain": [
       "DescribeResult(nobs=784, minmax=(0.045773850931073695, 1.4611245263115076), mean=0.5547083556100642, variance=0.060902004639881165, skewness=0.34536990219421143, kurtosis=-0.05873453412968166)"
      ]
     },
     "execution_count": 39,
     "metadata": {},
     "output_type": "execute_result"
    }
   ],
   "source": [
    "describe(uncertainty_map,axis=None)"
   ]
  },
  {
   "cell_type": "code",
   "execution_count": 40,
   "metadata": {
    "scrolled": true
   },
   "outputs": [
    {
     "data": {
      "text/plain": [
       "0.5547083556100642"
      ]
     },
     "execution_count": 40,
     "metadata": {},
     "output_type": "execute_result"
    }
   ],
   "source": [
    "# Compute the average difference value for each pixel (uncertainty)\n",
    "np.average(uncertainty_map)"
   ]
  },
  {
   "cell_type": "code",
   "execution_count": 41,
   "metadata": {},
   "outputs": [
    {
     "name": "stdout",
     "output_type": "stream",
     "text": [
      "0.5457161464386482\n"
     ]
    }
   ],
   "source": [
    "# Generating example using wrapper function\n",
    "input_idx = 4\n",
    "uncertainty = calculate_uncertainty(classifiers = lenets,\n",
    "                              classifier_input = testX[input_idx],\n",
    "                              optimisers = optimisers,\n",
    "                              visualised_layer = 9)\n",
    "print(uncertainty)"
   ]
  },
  {
   "cell_type": "code",
   "execution_count": 42,
   "metadata": {},
   "outputs": [
    {
     "name": "stderr",
     "output_type": "stream",
     "text": [
      "100%|██████████| 10000/10000 [00:35<00:00, 280.50it/s]\n",
      "100%|██████████| 10000/10000 [00:35<00:00, 281.14it/s]\n",
      "100%|██████████| 10000/10000 [00:35<00:00, 279.99it/s]\n",
      "100%|██████████| 10000/10000 [00:35<00:00, 280.17it/s]\n",
      "100%|██████████| 10000/10000 [00:35<00:00, 279.13it/s]\n"
     ]
    }
   ],
   "source": [
    "MNIST_saliency_maps = generate_ensemble_saliency_maps_for_multiple_inputs(lenets,testX,MNIST_ensemble_predicted_outputs,optimisers,9)"
   ]
  },
  {
   "cell_type": "code",
   "execution_count": 43,
   "metadata": {},
   "outputs": [],
   "source": [
    "MNIST_saliency_maps = np.swapaxes(MNIST_saliency_maps,0,1)"
   ]
  },
  {
   "cell_type": "code",
   "execution_count": 44,
   "metadata": {
    "scrolled": false
   },
   "outputs": [
    {
     "data": {
      "image/png": "[encoded data removed]",
      "text/plain": [
       "<Figure size 1080x1080 with 6 Axes>"
      ]
     },
     "metadata": {
      "needs_background": "light"
     },
     "output_type": "display_data"
    }
   ],
   "source": [
    "visualize_saliency_maps(testX[1].reshape(28,28),MNIST_saliency_maps[1])"
   ]
  },
  {
   "cell_type": "code",
   "execution_count": 45,
   "metadata": {},
   "outputs": [],
   "source": [
    "MNIST_uncertainties = np.zeros(np.size(MNIST_saliency_maps,axis=0))\n",
    "for i in range(0,np.size(MNIST_saliency_maps, axis=0)):\n",
    "#    MNIST_uncertainties[i] = calculate_QCoD_uncertainty_with_maps(MNIST_saliency_maps[i],rng=(x,y))\n",
    "    MNIST_uncertainties[i] = calculate_CV_uncertainty_with_maps(MNIST_saliency_maps[i])"
   ]
  },
  {
   "cell_type": "code",
   "execution_count": 46,
   "metadata": {},
   "outputs": [
    {
     "data": {
      "text/plain": [
       "0.5640475749969482"
      ]
     },
     "execution_count": 46,
     "metadata": {},
     "output_type": "execute_result"
    }
   ],
   "source": [
    "MNIST_uncertainties[0]"
   ]
  },
  {
   "cell_type": "code",
   "execution_count": 81,
   "metadata": {},
   "outputs": [
    {
     "data": {
      "image/png": "[encoded data removed]",
      "text/plain": [
       "<Figure size 432x288 with 1 Axes>"
      ]
     },
     "metadata": {
      "needs_background": "light"
     },
     "output_type": "display_data"
    }
   ],
   "source": [
    "plt.hist(MNIST_uncertainties)\n",
    "plt.savefig(\"MNIST_uncertainties.png\")\n",
    "plt.show()"
   ]
  },
  {
   "cell_type": "code",
   "execution_count": 48,
   "metadata": {},
   "outputs": [
    {
     "data": {
      "text/plain": [
       "DescribeResult(nobs=10000, minmax=(0.5100147724151611, 0.7124846577644348), mean=0.582133004438877, variance=0.0006911767169252696, skewness=0.4148659067238674, kurtosis=0.042392523577952534)"
      ]
     },
     "execution_count": 48,
     "metadata": {},
     "output_type": "execute_result"
    }
   ],
   "source": [
    "describe(MNIST_uncertainties)"
   ]
  },
  {
   "cell_type": "markdown",
   "metadata": {},
   "source": [
    "# Not-MNIST"
   ]
  },
  {
   "cell_type": "code",
   "execution_count": 49,
   "metadata": {},
   "outputs": [],
   "source": [
    "folders = ['./data/notMNIST_small/A',\n",
    "           './data/notMNIST_small/B',\n",
    "           './data/notMNIST_small/C',\n",
    "           './data/notMNIST_small/D',\n",
    "           './data/notMNIST_small/E',\n",
    "           './data/notMNIST_small/F',\n",
    "           './data/notMNIST_small/G',\n",
    "           './data/notMNIST_small/H',\n",
    "           './data/notMNIST_small/I',\n",
    "           './data/notMNIST_small/J']"
   ]
  },
  {
   "cell_type": "code",
   "execution_count": 50,
   "metadata": {},
   "outputs": [],
   "source": [
    "image_size = 28  # Pixel width and height.\n",
    "pixel_depth = 255.0  # Number of levels per pixel."
   ]
  },
  {
   "cell_type": "code",
   "execution_count": 51,
   "metadata": {},
   "outputs": [],
   "source": [
    "# Source: https://www.ritchieng.com/machine-learning/deep-learning/tensorflow/notmnist/\n",
    "def load_letter(folder, min_num_images):\n",
    "  \"\"\"Load the data for a single letter label.\"\"\"\n",
    "  image_files = os.listdir(folder)\n",
    "  dataset = np.ndarray(shape=(len(image_files), image_size, image_size),\n",
    "                         dtype=np.float32)\n",
    "  print(folder)\n",
    "  num_images = 0\n",
    "  for image in image_files:\n",
    "    image_file = os.path.join(folder, image)\n",
    "    try:\n",
    "      image_data = (imageio.imread(image_file).astype(\"float32\") - \n",
    "                    pixel_depth / 2) / pixel_depth\n",
    "      if image_data.shape != (image_size, image_size):\n",
    "        raise Exception('Unexpected image shape: %s' % str(image_data.shape))\n",
    "      dataset[num_images, :, :] = image_data\n",
    "      num_images = num_images + 1\n",
    "    except (IOError, ValueError) as e:\n",
    "      print('Could not read:', image_file, ':', e, '- it\\'s ok, skipping.')\n",
    "    \n",
    "  dataset = dataset[0:num_images, :, :]\n",
    "  if num_images < min_num_images:\n",
    "    raise Exception('Many fewer images than expected: %d < %d' %\n",
    "                    (num_images, min_num_images))\n",
    "    \n",
    "  print('Full dataset tensor:', dataset.shape)\n",
    "  print('Mean:', np.mean(dataset))\n",
    "  print('Standard deviation:', np.std(dataset))\n",
    "  return dataset"
   ]
  },
  {
   "cell_type": "code",
   "execution_count": 52,
   "metadata": {
    "scrolled": true
   },
   "outputs": [
    {
     "name": "stdout",
     "output_type": "stream",
     "text": [
      "./data/notMNIST_small/A\n",
      "Could not read: ./data/notMNIST_small/A/RGVtb2NyYXRpY2FCb2xkT2xkc3R5bGUgQm9sZC50dGY=.png : Could not find a format to read the specified file in single-image mode - it's ok, skipping.\n",
      "Full dataset tensor: (1872, 28, 28)\n",
      "Mean: -0.1326264\n",
      "Standard deviation: 0.4451279\n",
      "./data/notMNIST_small/B\n",
      "Full dataset tensor: (1873, 28, 28)\n",
      "Mean: 0.005356083\n",
      "Standard deviation: 0.45711535\n",
      "./data/notMNIST_small/C\n",
      "Full dataset tensor: (1873, 28, 28)\n",
      "Mean: -0.14152053\n",
      "Standard deviation: 0.44269025\n",
      "./data/notMNIST_small/D\n",
      "Full dataset tensor: (1873, 28, 28)\n",
      "Mean: -0.04921665\n",
      "Standard deviation: 0.45975894\n",
      "./data/notMNIST_small/E\n",
      "Full dataset tensor: (1873, 28, 28)\n",
      "Mean: -0.05991476\n",
      "Standard deviation: 0.4573496\n",
      "./data/notMNIST_small/F\n",
      "Could not read: ./data/notMNIST_small/F/Q3Jvc3NvdmVyIEJvbGRPYmxpcXVlLnR0Zg==.png : Could not find a format to read the specified file in single-image mode - it's ok, skipping.\n",
      "Full dataset tensor: (1872, 28, 28)\n",
      "Mean: -0.11818528\n",
      "Standard deviation: 0.45227864\n",
      "./data/notMNIST_small/G\n",
      "Full dataset tensor: (1872, 28, 28)\n",
      "Mean: -0.09255028\n",
      "Standard deviation: 0.44900584\n",
      "./data/notMNIST_small/H\n",
      "Full dataset tensor: (1872, 28, 28)\n",
      "Mean: -0.058689248\n",
      "Standard deviation: 0.458759\n",
      "./data/notMNIST_small/I\n",
      "Full dataset tensor: (1872, 28, 28)\n",
      "Mean: 0.052645065\n",
      "Standard deviation: 0.47189355\n",
      "./data/notMNIST_small/J\n",
      "Full dataset tensor: (1872, 28, 28)\n",
      "Mean: -0.15168922\n",
      "Standard deviation: 0.44801357\n"
     ]
    }
   ],
   "source": [
    "letters = []\n",
    "for folder in folders:\n",
    "    letters.extend(load_letter(folder,1))\n",
    "letters = np.asarray(letters)"
   ]
  },
  {
   "cell_type": "code",
   "execution_count": 53,
   "metadata": {},
   "outputs": [
    {
     "data": {
      "image/png": "[encoded data removed]",
      "text/plain": [
       "<Figure size 432x288 with 1 Axes>"
      ]
     },
     "metadata": {
      "needs_background": "light"
     },
     "output_type": "display_data"
    }
   ],
   "source": [
    "plt.imshow(letters[0])\n",
    "plt.show()"
   ]
  },
  {
   "cell_type": "code",
   "execution_count": 54,
   "metadata": {},
   "outputs": [],
   "source": [
    "letters = letters.reshape((letters.shape[0],28,28,1))"
   ]
  },
  {
   "cell_type": "code",
   "execution_count": 55,
   "metadata": {},
   "outputs": [],
   "source": [
    "#letter = letter.astype(\"float32\") / 255.0\n",
    "letters = letters + 0.5"
   ]
  },
  {
   "cell_type": "code",
   "execution_count": 56,
   "metadata": {
    "scrolled": true
   },
   "outputs": [
    {
     "data": {
      "text/plain": [
       "DescribeResult(nobs=784, minmax=(0.0, 1.0), mean=0.61207485, variance=0.2098257, skewness=-0.4595169723033905, kurtosis=-1.7017732787937214)"
      ]
     },
     "execution_count": 56,
     "metadata": {},
     "output_type": "execute_result"
    }
   ],
   "source": [
    "describe(letters[0],axis=None)"
   ]
  },
  {
   "cell_type": "code",
   "execution_count": 57,
   "metadata": {
    "scrolled": false
   },
   "outputs": [],
   "source": [
    "NotMNIST_ensemble_predicted_outputs = get_ensenmble_outputs(lenets, letters,10)"
   ]
  },
  {
   "cell_type": "code",
   "execution_count": 58,
   "metadata": {},
   "outputs": [
    {
     "name": "stderr",
     "output_type": "stream",
     "text": [
      "100%|██████████| 18724/18724 [01:05<00:00, 286.43it/s]\n",
      "100%|██████████| 18724/18724 [01:05<00:00, 287.98it/s]\n",
      "100%|██████████| 18724/18724 [01:04<00:00, 289.20it/s]\n"
     ]
    }
   ],
   "source": [
    "NotMNIST_saliency_maps = generate_ensemble_saliency_maps_for_multiple_inputs(lenets,letters,NotMNIST_ensemble_predicted_outputs,optimisers,9)"
   ]
  },
  {
   "cell_type": "code",
   "execution_count": 59,
   "metadata": {},
   "outputs": [],
   "source": [
    "NotMNIST_saliency_maps = np.swapaxes(NotMNIST_saliency_maps,0,1)"
   ]
  },
  {
   "cell_type": "code",
   "execution_count": 60,
   "metadata": {
    "scrolled": false
   },
   "outputs": [
    {
     "data": {
      "image/png": "[encoded data removed]",
      "text/plain": [
       "<Figure size 1080x1080 with 6 Axes>"
      ]
     },
     "metadata": {
      "needs_background": "light"
     },
     "output_type": "display_data"
    }
   ],
   "source": [
    "visualize_saliency_maps(letters[1].reshape(28,28),NotMNIST_saliency_maps[1])"
   ]
  },
  {
   "cell_type": "code",
   "execution_count": 61,
   "metadata": {},
   "outputs": [
    {
     "data": {
      "text/plain": [
       "4"
      ]
     },
     "execution_count": 61,
     "metadata": {},
     "output_type": "execute_result"
    }
   ],
   "source": [
    "get_ensemble_output(lenets,letters[1],10)"
   ]
  },
  {
   "cell_type": "code",
   "execution_count": 62,
   "metadata": {},
   "outputs": [
    {
     "name": "stdout",
     "output_type": "stream",
     "text": [
      "DescribeResult(nobs=784, minmax=(0.0, 0.9999998), mean=0.12984255, variance=0.018014852, skewness=2.0338943004608154, kurtosis=5.892443089035801)\n",
      "DescribeResult(nobs=784, minmax=(0.0, 0.9999998), mean=0.11329658, variance=0.019127037, skewness=2.7356491088867188, kurtosis=9.72240236563852)\n",
      "DescribeResult(nobs=784, minmax=(0.0, 0.9999997), mean=0.21916242, variance=0.035333607, skewness=1.4822829961776733, kurtosis=2.3480028657149283)\n",
      "DescribeResult(nobs=784, minmax=(0.0, 0.9999997), mean=0.16597281, variance=0.029990755, skewness=1.9018752574920654, kurtosis=3.880712705792387)\n",
      "DescribeResult(nobs=784, minmax=(0.0, 0.99999976), mean=0.1644755, variance=0.02702483, skewness=2.03708815574646, kurtosis=4.6361790220988945)\n"
     ]
    }
   ],
   "source": [
    "for mapx in NotMNIST_saliency_maps[1]:\n",
    "    print(describe(mapx,axis=None))"
   ]
  },
  {
   "cell_type": "code",
   "execution_count": 63,
   "metadata": {},
   "outputs": [
    {
     "data": {
      "image/png": "[encoded data removed]",
      "text/plain": [
       "<Figure size 432x288 with 1 Axes>"
      ]
     },
     "metadata": {
      "needs_background": "light"
     },
     "output_type": "display_data"
    }
   ],
   "source": [
    "# Visualise uncertainty map example\n",
    "#uncertainty_map = generate_uncertainty_map_with_QCoD(NotMNIST_saliency_maps[1],rng=(x,y))\n",
    "#uncertainty_map = generate_uncertainty_map_with_QCoD(NotMNIST_saliency_maps[1],rng=(0,75))\n",
    "uncertainty_map = generate_uncertainty_map_with_CV(NotMNIST_saliency_maps[1])\n",
    "plt.imshow(uncertainty_map)\n",
    "plt.show()"
   ]
  },
  {
   "cell_type": "code",
   "execution_count": 64,
   "metadata": {},
   "outputs": [
    {
     "data": {
      "text/plain": [
       "DescribeResult(nobs=784, minmax=(0.09594042, 1.516196), mean=0.6582772, variance=0.06072313, skewness=0.33533284068107605, kurtosis=-0.13126902585721245)"
      ]
     },
     "execution_count": 64,
     "metadata": {},
     "output_type": "execute_result"
    }
   ],
   "source": [
    "describe(uncertainty_map,axis=None)"
   ]
  },
  {
   "cell_type": "code",
   "execution_count": 65,
   "metadata": {},
   "outputs": [],
   "source": [
    "NotMNIST_uncertainties = np.zeros(np.size(NotMNIST_saliency_maps,axis=0))\n",
    "for i in range(0,np.size(NotMNIST_saliency_maps, axis=0)):\n",
    "#    NotMNIST_uncertainties[i] = calculate_QCoD_uncertainty_with_maps(NotMNIST_saliency_maps[i],rng=(x,y))\n",
    "    NotMNIST_uncertainties[i] = calculate_CV_uncertainty_with_maps(NotMNIST_saliency_maps[i])"
   ]
  },
  {
   "cell_type": "code",
   "execution_count": 66,
   "metadata": {},
   "outputs": [
    {
     "data": {
      "text/plain": [
       "0.5894339680671692"
      ]
     },
     "execution_count": 66,
     "metadata": {},
     "output_type": "execute_result"
    }
   ],
   "source": [
    "NotMNIST_uncertainties[6]"
   ]
  },
  {
   "cell_type": "code",
   "execution_count": 80,
   "metadata": {},
   "outputs": [
    {
     "data": {
      "image/png": "[encoded data removed]",
      "text/plain": [
       "<Figure size 432x288 with 1 Axes>"
      ]
     },
     "metadata": {
      "needs_background": "light"
     },
     "output_type": "display_data"
    }
   ],
   "source": [
    "plt.hist(NotMNIST_uncertainties)\n",
    "plt.show()\n",
    "plt.savefig(\"NotMNIST_uncertainties.png\")"
   ]
  },
  {
   "cell_type": "code",
   "execution_count": 68,
   "metadata": {},
   "outputs": [
    {
     "data": {
      "text/plain": [
       "DescribeResult(nobs=18724, minmax=(0.5043039321899414, 0.7153803706169128), mean=0.5933714406634467, variance=0.0008637831733013427, skewness=0.3938931048971207, kurtosis=0.38273042476397023)"
      ]
     },
     "execution_count": 68,
     "metadata": {},
     "output_type": "execute_result"
    }
   ],
   "source": [
    "describe(NotMNIST_uncertainties)"
   ]
  },
  {
   "cell_type": "markdown",
   "metadata": {},
   "source": [
    "# Misc."
   ]
  },
  {
   "cell_type": "code",
   "execution_count": 69,
   "metadata": {},
   "outputs": [
    {
     "name": "stdout",
     "output_type": "stream",
     "text": [
      "12.552584\n",
      "[9.8936255e-07 5.0203812e-07 1.0328033e-07 2.1560825e-07 9.9661475e-01\n",
      " 4.9325578e-08 1.2631250e-05 3.9570899e-05 7.8043206e-07 3.3305725e-03]\n"
     ]
    }
   ],
   "source": [
    "#This prints out the pre-activation outputs for the output layer (for curiosity)\n",
    "intermediate_layer_model = keras.Model(inputs=lenet.input,\n",
    "                                 outputs=lenet.get_layer(\"vis\").output)\n",
    "intermediate_output = intermediate_layer_model.predict(testX)[input_idx]\n",
    "print(max(intermediate_output))\n",
    "print(lenet.predict(testX)[input_idx])"
   ]
  },
  {
   "cell_type": "code",
   "execution_count": 70,
   "metadata": {},
   "outputs": [
    {
     "data": {
      "image/png": "[encoded data removed]",
      "text/plain": [
       "<Figure size 1080x1080 with 6 Axes>"
      ]
     },
     "metadata": {
      "needs_background": "light"
     },
     "output_type": "display_data"
    }
   ],
   "source": [
    "# Visualise saliency maps examples\n",
    "visualize_saliency_maps(classifier_input = testX[input_idx].reshape(28,28),\n",
    "                        saliency_maps = maps)"
   ]
  },
  {
   "cell_type": "code",
   "execution_count": 71,
   "metadata": {},
   "outputs": [
    {
     "data": {
      "image/png": "[encoded data removed]",
      "text/plain": [
       "<Figure size 432x288 with 1 Axes>"
      ]
     },
     "metadata": {
      "needs_background": "light"
     },
     "output_type": "display_data"
    }
   ],
   "source": [
    "# This is what happens if we don't normalise the pixels' standard deviation\n",
    "plt.imshow(np.std(maps,axis=0))\n",
    "plt.show()"
   ]
  },
  {
   "cell_type": "code",
   "execution_count": 72,
   "metadata": {
    "scrolled": true
   },
   "outputs": [
    {
     "name": "stdout",
     "output_type": "stream",
     "text": [
      "247\n",
      "259\n",
      "321\n",
      "340\n",
      "445\n",
      "495\n",
      "582\n",
      "583\n",
      "613\n",
      "619\n",
      "659\n",
      "684\n",
      "720\n",
      "760\n",
      "924\n",
      "947\n",
      "1014\n",
      "1039\n",
      "1112\n",
      "1114\n",
      "1182\n",
      "1226\n",
      "1247\n",
      "1319\n",
      "1378\n",
      "1393\n",
      "1414\n",
      "1522\n",
      "1530\n",
      "1621\n",
      "1678\n",
      "1681\n",
      "1709\n",
      "1878\n",
      "1901\n",
      "1984\n",
      "2018\n",
      "2035\n",
      "2098\n",
      "2109\n",
      "2130\n",
      "2135\n",
      "2182\n",
      "2272\n",
      "2293\n",
      "2387\n",
      "2414\n",
      "2462\n",
      "2488\n",
      "2654\n",
      "2896\n",
      "2939\n",
      "2953\n",
      "3073\n",
      "3333\n",
      "3422\n",
      "3503\n",
      "3520\n",
      "3534\n",
      "3549\n",
      "3558\n",
      "3597\n",
      "3767\n",
      "3796\n",
      "3808\n",
      "3811\n",
      "3893\n",
      "3906\n",
      "3985\n",
      "4075\n",
      "4078\n",
      "4163\n",
      "4176\n",
      "4224\n",
      "4248\n",
      "4256\n",
      "4265\n",
      "4360\n",
      "4497\n",
      "4500\n",
      "4536\n",
      "4578\n",
      "4639\n",
      "4761\n",
      "4807\n",
      "4823\n",
      "4860\n",
      "4880\n",
      "5331\n",
      "5457\n",
      "5600\n",
      "5642\n",
      "5654\n",
      "5842\n",
      "5887\n",
      "5937\n",
      "5955\n",
      "5973\n",
      "5982\n",
      "5997\n",
      "6011\n",
      "6023\n",
      "6035\n",
      "6045\n",
      "6059\n",
      "6166\n",
      "6559\n",
      "6571\n",
      "6572\n",
      "6576\n",
      "6597\n",
      "6651\n",
      "6783\n",
      "7434\n",
      "7812\n",
      "7899\n",
      "7928\n",
      "7990\n",
      "8094\n",
      "8325\n",
      "8408\n",
      "9009\n",
      "9015\n",
      "9024\n",
      "9280\n",
      "9587\n",
      "9634\n",
      "9642\n",
      "9664\n",
      "9669\n",
      "9679\n",
      "9692\n",
      "9726\n",
      "9729\n",
      "9749\n",
      "9768\n",
      "9770\n",
      "9779\n",
      "9792\n",
      "9811\n",
      "9839\n",
      "9856\n",
      "9904\n",
      "9982\n"
     ]
    }
   ],
   "source": [
    "#Output images that were misclassified by the singular classifier\n",
    "idx = 0\n",
    "for i in lenet.predict(testX):\n",
    "    if (np.argmax(i) != np.argmax(testY[idx])):\n",
    "        print(idx)\n",
    "    idx = idx + 1"
   ]
  },
  {
   "cell_type": "code",
   "execution_count": 73,
   "metadata": {},
   "outputs": [],
   "source": [
    "MNIST_deviations = np.zeros(np.size(MNIST_saliency_maps,axis=0))\n",
    "for i in range(0,np.size(MNIST_saliency_maps,axis = 0) -1):\n",
    "    MNIST_deviations[i] = np.mean(np.std(MNIST_saliency_maps[i], axis = 0))"
   ]
  },
  {
   "cell_type": "code",
   "execution_count": 74,
   "metadata": {},
   "outputs": [
    {
     "data": {
      "text/plain": [
       "0.059934742748737335"
      ]
     },
     "execution_count": 74,
     "metadata": {},
     "output_type": "execute_result"
    }
   ],
   "source": [
    "MNIST_deviations[6]"
   ]
  },
  {
   "cell_type": "code",
   "execution_count": 75,
   "metadata": {},
   "outputs": [
    {
     "data": {
      "image/png": "[encoded data removed]",
      "text/plain": [
       "<Figure size 432x288 with 1 Axes>"
      ]
     },
     "metadata": {
      "needs_background": "light"
     },
     "output_type": "display_data"
    }
   ],
   "source": [
    "plt.hist(MNIST_deviations)\n",
    "plt.show()"
   ]
  },
  {
   "cell_type": "code",
   "execution_count": 76,
   "metadata": {},
   "outputs": [
    {
     "data": {
      "text/plain": [
       "DescribeResult(nobs=10000, minmax=(0.0, 0.09312409162521362), mean=0.057646200833655896, variance=8.72560339732055e-05, skewness=-0.03983001365877041, kurtosis=-0.17727832761291573)"
      ]
     },
     "execution_count": 76,
     "metadata": {},
     "output_type": "execute_result"
    }
   ],
   "source": [
    "describe(MNIST_deviations)"
   ]
  }
 ],
 "metadata": {
  "kernelspec": {
   "display_name": "Python 3",
   "language": "python",
   "name": "python3"
  },
  "language_info": {
   "codemirror_mode": {
    "name": "ipython",
    "version": 3
   },
   "file_extension": ".py",
   "mimetype": "text/x-python",
   "name": "python",
   "nbconvert_exporter": "python",
   "pygments_lexer": "ipython3",
   "version": "3.7.6"
  }
 },
 "nbformat": 4,
 "nbformat_minor": 2
}
