{
 "cells": [
  {
   "cell_type": "code",
   "execution_count": 1,
   "metadata": {},
   "outputs": [
    {
     "name": "stderr",
     "output_type": "stream",
     "text": [
      "/users/ai/u7ysrv/anaconda3/envs/samel/lib/python3.7/site-packages/tensorflow/python/framework/dtypes.py:516: FutureWarning: Passing (type, 1) or '1type' as a synonym of type is deprecated; in a future version of numpy, it will be understood as (type, (1,)) / '(1,)type'.\n",
      "  _np_qint8 = np.dtype([(\"qint8\", np.int8, 1)])\n",
      "/users/ai/u7ysrv/anaconda3/envs/samel/lib/python3.7/site-packages/tensorflow/python/framework/dtypes.py:517: FutureWarning: Passing (type, 1) or '1type' as a synonym of type is deprecated; in a future version of numpy, it will be understood as (type, (1,)) / '(1,)type'.\n",
      "  _np_quint8 = np.dtype([(\"quint8\", np.uint8, 1)])\n",
      "/users/ai/u7ysrv/anaconda3/envs/samel/lib/python3.7/site-packages/tensorflow/python/framework/dtypes.py:518: FutureWarning: Passing (type, 1) or '1type' as a synonym of type is deprecated; in a future version of numpy, it will be understood as (type, (1,)) / '(1,)type'.\n",
      "  _np_qint16 = np.dtype([(\"qint16\", np.int16, 1)])\n",
      "/users/ai/u7ysrv/anaconda3/envs/samel/lib/python3.7/site-packages/tensorflow/python/framework/dtypes.py:519: FutureWarning: Passing (type, 1) or '1type' as a synonym of type is deprecated; in a future version of numpy, it will be understood as (type, (1,)) / '(1,)type'.\n",
      "  _np_quint16 = np.dtype([(\"quint16\", np.uint16, 1)])\n",
      "/users/ai/u7ysrv/anaconda3/envs/samel/lib/python3.7/site-packages/tensorflow/python/framework/dtypes.py:520: FutureWarning: Passing (type, 1) or '1type' as a synonym of type is deprecated; in a future version of numpy, it will be understood as (type, (1,)) / '(1,)type'.\n",
      "  _np_qint32 = np.dtype([(\"qint32\", np.int32, 1)])\n",
      "/users/ai/u7ysrv/anaconda3/envs/samel/lib/python3.7/site-packages/tensorflow/python/framework/dtypes.py:525: FutureWarning: Passing (type, 1) or '1type' as a synonym of type is deprecated; in a future version of numpy, it will be understood as (type, (1,)) / '(1,)type'.\n",
      "  np_resource = np.dtype([(\"resource\", np.ubyte, 1)])\n",
      "/users/ai/u7ysrv/anaconda3/envs/samel/lib/python3.7/site-packages/tensorboard/compat/tensorflow_stub/dtypes.py:541: FutureWarning: Passing (type, 1) or '1type' as a synonym of type is deprecated; in a future version of numpy, it will be understood as (type, (1,)) / '(1,)type'.\n",
      "  _np_qint8 = np.dtype([(\"qint8\", np.int8, 1)])\n",
      "/users/ai/u7ysrv/anaconda3/envs/samel/lib/python3.7/site-packages/tensorboard/compat/tensorflow_stub/dtypes.py:542: FutureWarning: Passing (type, 1) or '1type' as a synonym of type is deprecated; in a future version of numpy, it will be understood as (type, (1,)) / '(1,)type'.\n",
      "  _np_quint8 = np.dtype([(\"quint8\", np.uint8, 1)])\n",
      "/users/ai/u7ysrv/anaconda3/envs/samel/lib/python3.7/site-packages/tensorboard/compat/tensorflow_stub/dtypes.py:543: FutureWarning: Passing (type, 1) or '1type' as a synonym of type is deprecated; in a future version of numpy, it will be understood as (type, (1,)) / '(1,)type'.\n",
      "  _np_qint16 = np.dtype([(\"qint16\", np.int16, 1)])\n",
      "/users/ai/u7ysrv/anaconda3/envs/samel/lib/python3.7/site-packages/tensorboard/compat/tensorflow_stub/dtypes.py:544: FutureWarning: Passing (type, 1) or '1type' as a synonym of type is deprecated; in a future version of numpy, it will be understood as (type, (1,)) / '(1,)type'.\n",
      "  _np_quint16 = np.dtype([(\"quint16\", np.uint16, 1)])\n",
      "/users/ai/u7ysrv/anaconda3/envs/samel/lib/python3.7/site-packages/tensorboard/compat/tensorflow_stub/dtypes.py:545: FutureWarning: Passing (type, 1) or '1type' as a synonym of type is deprecated; in a future version of numpy, it will be understood as (type, (1,)) / '(1,)type'.\n",
      "  _np_qint32 = np.dtype([(\"qint32\", np.int32, 1)])\n",
      "/users/ai/u7ysrv/anaconda3/envs/samel/lib/python3.7/site-packages/tensorboard/compat/tensorflow_stub/dtypes.py:550: FutureWarning: Passing (type, 1) or '1type' as a synonym of type is deprecated; in a future version of numpy, it will be understood as (type, (1,)) / '(1,)type'.\n",
      "  np_resource = np.dtype([(\"resource\", np.ubyte, 1)])\n",
      "Using TensorFlow backend.\n"
     ]
    }
   ],
   "source": [
    "import numpy as np\n",
    "import pandas as pd\n",
    "import tensorflow as tf\n",
    "#from tensorflow import keras\n",
    "import keras\n",
    "import matplotlib.pyplot as plt\n",
    "from vis.visualization import visualize_saliency\n",
    "from vis.visualization import get_num_filters\n",
    "from vis.visualization import visualize_activation\n",
    "from vis.utils import utils\n",
    "from tensorflow.keras.utils import plot_model\n",
    "from tensorflow.keras import activations"
   ]
  },
  {
   "cell_type": "markdown",
   "metadata": {},
   "source": [
    "# 1. Loading Data "
   ]
  },
  {
   "cell_type": "markdown",
   "metadata": {},
   "source": [
    "## Read dataset"
   ]
  },
  {
   "cell_type": "code",
   "execution_count": 2,
   "metadata": {},
   "outputs": [],
   "source": [
    "data = tf.keras.datasets.mnist"
   ]
  },
  {
   "cell_type": "code",
   "execution_count": 3,
   "metadata": {},
   "outputs": [],
   "source": [
    "(trainX, trainY),(testX, testY) = data.load_data()"
   ]
  },
  {
   "cell_type": "code",
   "execution_count": 4,
   "metadata": {},
   "outputs": [],
   "source": [
    "trainX = trainX.reshape((trainX.shape[0], 28, 28, 1))\n",
    "testX = testX.reshape((testX.shape[0], 28, 28, 1))"
   ]
  },
  {
   "cell_type": "code",
   "execution_count": 5,
   "metadata": {},
   "outputs": [],
   "source": [
    "trainY = keras.utils.to_categorical(trainY, 10)\n",
    "testY = keras.utils.to_categorical(testY, 10)"
   ]
  },
  {
   "cell_type": "code",
   "execution_count": 6,
   "metadata": {},
   "outputs": [],
   "source": [
    "trainX = trainX.astype(\"float32\") / 255.0\n",
    "testX = testX.astype(\"float32\") / 255.0"
   ]
  },
  {
   "cell_type": "code",
   "execution_count": 7,
   "metadata": {
    "scrolled": true
   },
   "outputs": [
    {
     "name": "stdout",
     "output_type": "stream",
     "text": [
      "(60000, 28, 28, 1)\n"
     ]
    }
   ],
   "source": [
    "print(trainX.shape)"
   ]
  },
  {
   "cell_type": "markdown",
   "metadata": {},
   "source": [
    "# Training"
   ]
  },
  {
   "cell_type": "markdown",
   "metadata": {},
   "source": [
    "## Code for training"
   ]
  },
  {
   "cell_type": "code",
   "execution_count": 8,
   "metadata": {},
   "outputs": [
    {
     "name": "stdout",
     "output_type": "stream",
     "text": [
      "WARNING:tensorflow:From /users/ai/u7ysrv/anaconda3/envs/samel/lib/python3.7/site-packages/keras/backend/tensorflow_backend.py:74: The name tf.get_default_graph is deprecated. Please use tf.compat.v1.get_default_graph instead.\n",
      "\n",
      "WARNING:tensorflow:From /users/ai/u7ysrv/anaconda3/envs/samel/lib/python3.7/site-packages/keras/backend/tensorflow_backend.py:517: The name tf.placeholder is deprecated. Please use tf.compat.v1.placeholder instead.\n",
      "\n",
      "WARNING:tensorflow:From /users/ai/u7ysrv/anaconda3/envs/samel/lib/python3.7/site-packages/keras/backend/tensorflow_backend.py:4138: The name tf.random_uniform is deprecated. Please use tf.random.uniform instead.\n",
      "\n",
      "WARNING:tensorflow:From /users/ai/u7ysrv/anaconda3/envs/samel/lib/python3.7/site-packages/keras/backend/tensorflow_backend.py:3976: The name tf.nn.max_pool is deprecated. Please use tf.nn.max_pool2d instead.\n",
      "\n"
     ]
    }
   ],
   "source": [
    "#Creates Sequential model using Keras\n",
    "#Number of nodes is the same as number of features (different number of nodes were tried but it did not\n",
    "#affect validation accuracy significantly)\n",
    "lenet = keras.Sequential([\n",
    "                            #Input layer:\n",
    "                            keras.layers.Conv2D(20, 5, padding=\"same\", input_shape=[28,28,1], use_bias=True),\n",
    "                            #Hidden Layers:\n",
    "                            keras.layers.Activation(activation=\"relu\"),\n",
    "                            keras.layers.MaxPooling2D(pool_size=(2, 2), strides=(2, 2)),\n",
    "                            keras.layers.Conv2D(50, 5, padding=\"same\"),\n",
    "                            keras.layers.Activation(activation=\"relu\"),\n",
    "                            keras.layers.MaxPooling2D(pool_size=(2, 2), strides=(2, 2)),\n",
    "                            keras.layers.Flatten(),\n",
    "                            keras.layers.Dense(500),\n",
    "                            keras.layers.Activation(activation=\"relu\"),\n",
    "                            keras.layers.Dense(10, name='vis',use_bias=True),\n",
    "                            #Output layer\n",
    "                            keras.layers.Activation(activation=\"softmax\"),\n",
    "                        ])"
   ]
  },
  {
   "cell_type": "code",
   "execution_count": 9,
   "metadata": {},
   "outputs": [],
   "source": [
    "#lenets = [keras.models.clone_model(lenet),keras.models.clone_model(lenet),keras.models.clone_model(lenet),keras.models.clone_model(lenet),keras.models.clone_model(lenet),keras.models.clone_model(lenet)]"
   ]
  },
  {
   "cell_type": "code",
   "execution_count": 10,
   "metadata": {},
   "outputs": [],
   "source": [
    "classifier_number = 5\n",
    "lenets = [keras.models.clone_model(lenet)]\n",
    "for i in range(1,classifier_number):\n",
    "    lenets.append(keras.models.clone_model(lenet))"
   ]
  },
  {
   "cell_type": "code",
   "execution_count": 11,
   "metadata": {
    "scrolled": false
   },
   "outputs": [
    {
     "name": "stdout",
     "output_type": "stream",
     "text": [
      "WARNING:tensorflow:From /users/ai/u7ysrv/anaconda3/envs/samel/lib/python3.7/site-packages/keras/optimizers.py:790: The name tf.train.Optimizer is deprecated. Please use tf.compat.v1.train.Optimizer instead.\n",
      "\n",
      "WARNING:tensorflow:From /users/ai/u7ysrv/anaconda3/envs/samel/lib/python3.7/site-packages/keras/backend/tensorflow_backend.py:3295: The name tf.log is deprecated. Please use tf.math.log instead.\n",
      "\n",
      "WARNING:tensorflow:From /users/ai/u7ysrv/anaconda3/envs/samel/lib/python3.7/site-packages/tensorflow/python/ops/math_grad.py:1250: add_dispatch_support.<locals>.wrapper (from tensorflow.python.ops.array_ops) is deprecated and will be removed in a future version.\n",
      "Instructions for updating:\n",
      "Use tf.where in 2.0, which has the same broadcast rule as np.where\n",
      "WARNING:tensorflow:From /users/ai/u7ysrv/anaconda3/envs/samel/lib/python3.7/site-packages/keras/backend/tensorflow_backend.py:986: The name tf.assign_add is deprecated. Please use tf.compat.v1.assign_add instead.\n",
      "\n",
      "Train on 60000 samples, validate on 10000 samples\n",
      "Epoch 1/5\n",
      "60000/60000 [==============================] - 16s 273us/step - loss: 0.4388 - acc: 0.8762 - val_loss: 0.1300 - val_acc: 0.9600\n",
      "Epoch 2/5\n",
      "60000/60000 [==============================] - 12s 202us/step - loss: 0.1123 - acc: 0.9665 - val_loss: 0.0727 - val_acc: 0.9776\n",
      "Epoch 3/5\n",
      "60000/60000 [==============================] - 12s 205us/step - loss: 0.0770 - acc: 0.9764 - val_loss: 0.0628 - val_acc: 0.9785\n",
      "Epoch 4/5\n",
      "60000/60000 [==============================] - 12s 206us/step - loss: 0.0618 - acc: 0.9811 - val_loss: 0.0488 - val_acc: 0.9840\n",
      "Epoch 5/5\n",
      "60000/60000 [==============================] - 12s 203us/step - loss: 0.0502 - acc: 0.9845 - val_loss: 0.0417 - val_acc: 0.9872\n"
     ]
    }
   ],
   "source": [
    "#Compiles sequential model\n",
    "#Using learning rate 0.01\n",
    "#Loss function will be categorical crossentropy\n",
    "lenet.compile(\n",
    "                optimizer=keras.optimizers.SGD(lr=0.01),\n",
    "                loss = 'categorical_crossentropy',\n",
    "                metrics = ['accuracy']\n",
    "                )\n",
    "#Trains network over a number of epochs and evaluates network agains validation data\n",
    "#after each epoch\n",
    "lenetEpochHistory = lenet.fit(trainX, trainY, epochs = 5, validation_data = (testX, testY))"
   ]
  },
  {
   "cell_type": "code",
   "execution_count": 12,
   "metadata": {
    "scrolled": false
   },
   "outputs": [
    {
     "name": "stdout",
     "output_type": "stream",
     "text": [
      "Train on 60000 samples, validate on 10000 samples\n",
      "Epoch 1/5\n",
      "60000/60000 [==============================] - 13s 218us/step - loss: 0.4428 - acc: 0.8712 - val_loss: 0.1473 - val_acc: 0.9539\n",
      "Epoch 2/5\n",
      "60000/60000 [==============================] - 12s 208us/step - loss: 0.1118 - acc: 0.9663 - val_loss: 0.0721 - val_acc: 0.9766\n",
      "Epoch 3/5\n",
      "60000/60000 [==============================] - 12s 207us/step - loss: 0.0760 - acc: 0.9772 - val_loss: 0.0588 - val_acc: 0.9816\n",
      "Epoch 4/5\n",
      "60000/60000 [==============================] - 12s 208us/step - loss: 0.0599 - acc: 0.9823 - val_loss: 0.0614 - val_acc: 0.9796\n",
      "Epoch 5/5\n",
      "60000/60000 [==============================] - 12s 207us/step - loss: 0.0501 - acc: 0.9843 - val_loss: 0.0457 - val_acc: 0.9858\n",
      "Train on 60000 samples, validate on 10000 samples\n",
      "Epoch 1/5\n",
      "60000/60000 [==============================] - 13s 213us/step - loss: 0.4099 - acc: 0.8830 - val_loss: 0.1523 - val_acc: 0.9532\n",
      "Epoch 2/5\n",
      "60000/60000 [==============================] - 12s 204us/step - loss: 0.1107 - acc: 0.9666 - val_loss: 0.0806 - val_acc: 0.9762\n",
      "Epoch 3/5\n",
      "60000/60000 [==============================] - 12s 206us/step - loss: 0.0757 - acc: 0.9767 - val_loss: 0.0561 - val_acc: 0.9836\n",
      "Epoch 4/5\n",
      "60000/60000 [==============================] - 12s 208us/step - loss: 0.0596 - acc: 0.9819 - val_loss: 0.0454 - val_acc: 0.9855\n",
      "Epoch 5/5\n",
      "60000/60000 [==============================] - 12s 207us/step - loss: 0.0495 - acc: 0.9850 - val_loss: 0.0431 - val_acc: 0.9850\n",
      "Train on 60000 samples, validate on 10000 samples\n",
      "Epoch 1/5\n",
      "60000/60000 [==============================] - 13s 214us/step - loss: 0.4022 - acc: 0.8825 - val_loss: 0.1168 - val_acc: 0.9662\n",
      "Epoch 2/5\n",
      "60000/60000 [==============================] - 12s 206us/step - loss: 0.1059 - acc: 0.9677 - val_loss: 0.0734 - val_acc: 0.9778\n",
      "Epoch 3/5\n",
      "60000/60000 [==============================] - 12s 207us/step - loss: 0.0739 - acc: 0.9774 - val_loss: 0.0581 - val_acc: 0.9819\n",
      "Epoch 4/5\n",
      "60000/60000 [==============================] - 12s 205us/step - loss: 0.0593 - acc: 0.9818 - val_loss: 0.0503 - val_acc: 0.9832\n",
      "Epoch 5/5\n",
      "60000/60000 [==============================] - 12s 206us/step - loss: 0.0494 - acc: 0.9848 - val_loss: 0.0404 - val_acc: 0.9877\n",
      "Train on 60000 samples, validate on 10000 samples\n",
      "Epoch 1/5\n",
      "60000/60000 [==============================] - 13s 214us/step - loss: 0.4007 - acc: 0.8860 - val_loss: 0.1321 - val_acc: 0.9595\n",
      "Epoch 2/5\n",
      "60000/60000 [==============================] - 12s 206us/step - loss: 0.1142 - acc: 0.9660 - val_loss: 0.0770 - val_acc: 0.9772\n",
      "Epoch 3/5\n",
      "60000/60000 [==============================] - 12s 205us/step - loss: 0.0789 - acc: 0.9758 - val_loss: 0.0683 - val_acc: 0.9773\n",
      "Epoch 4/5\n",
      "60000/60000 [==============================] - 12s 205us/step - loss: 0.0610 - acc: 0.9805 - val_loss: 0.0534 - val_acc: 0.9814\n",
      "Epoch 5/5\n",
      "60000/60000 [==============================] - 12s 205us/step - loss: 0.0518 - acc: 0.9842 - val_loss: 0.0459 - val_acc: 0.9838\n",
      "Train on 60000 samples, validate on 10000 samples\n",
      "Epoch 1/5\n",
      "60000/60000 [==============================] - 13s 214us/step - loss: 0.3916 - acc: 0.8892 - val_loss: 0.1312 - val_acc: 0.9584\n",
      "Epoch 2/5\n",
      "60000/60000 [==============================] - 12s 205us/step - loss: 0.1068 - acc: 0.9676 - val_loss: 0.0794 - val_acc: 0.9753\n",
      "Epoch 3/5\n",
      "60000/60000 [==============================] - 12s 207us/step - loss: 0.0746 - acc: 0.9774 - val_loss: 0.0601 - val_acc: 0.9816\n",
      "Epoch 4/5\n",
      "60000/60000 [==============================] - 12s 205us/step - loss: 0.0592 - acc: 0.9821 - val_loss: 0.0481 - val_acc: 0.9843\n",
      "Epoch 5/5\n",
      "60000/60000 [==============================] - 12s 207us/step - loss: 0.0496 - acc: 0.9851 - val_loss: 0.0439 - val_acc: 0.9860\n"
     ]
    }
   ],
   "source": [
    "#Compiles sequential model\n",
    "#Using learning rate 0.01\n",
    "#Loss function will be categorical crossentropy\n",
    "for model in lenets:\n",
    "    model.compile(\n",
    "                    optimizer=keras.optimizers.SGD(lr=0.01),\n",
    "                    loss = 'categorical_crossentropy',\n",
    "                    metrics = ['accuracy']\n",
    "                    )\n",
    "#Trains network over a number of epochs and evaluates network agains validation data\n",
    "#after each epoch\n",
    "for model in lenets:\n",
    "    model.fit(trainX, trainY, epochs = 5, validation_data = (testX, testY))"
   ]
  },
  {
   "cell_type": "markdown",
   "metadata": {},
   "source": [
    "# General Evaluation"
   ]
  },
  {
   "cell_type": "code",
   "execution_count": 13,
   "metadata": {},
   "outputs": [
    {
     "name": "stdout",
     "output_type": "stream",
     "text": [
      "6\n",
      "6\n"
     ]
    }
   ],
   "source": [
    "#Predicting Label:\n",
    "\n",
    "print(np.argmax(lenet.predict(testX)[100]))\n",
    "print(np.argmax(testY[100]))"
   ]
  },
  {
   "cell_type": "code",
   "execution_count": 14,
   "metadata": {},
   "outputs": [
    {
     "name": "stdout",
     "output_type": "stream",
     "text": [
      "10000/10000 [==============================] - 1s 81us/step\n",
      "Lenet accuracy:  0.9872\n",
      "Lenet loss:  0.041655284570157526\n"
     ]
    },
    {
     "data": {
      "image/png": "[encoded data removed]",
      "text/plain": [
       "<Figure size 432x288 with 1 Axes>"
      ]
     },
     "metadata": {},
     "output_type": "display_data"
    },
    {
     "data": {
      "image/png": "[encoded data removed]",
      "text/plain": [
       "<Figure size 432x288 with 1 Axes>"
      ]
     },
     "metadata": {},
     "output_type": "display_data"
    }
   ],
   "source": [
    "#Get accuracy for lenet\n",
    "sequentialLoss, sequentialAccuracy = lenet.evaluate(testX, testY)\n",
    "print('Lenet accuracy: ', sequentialAccuracy)\n",
    "print('Lenet loss: ', sequentialLoss)\n",
    "\n",
    "plt.style.use('dark_background')\n",
    "plt.plot(lenetEpochHistory.history['acc'])\n",
    "plt.plot(lenetEpochHistory.history['val_acc'])\n",
    "plt.title('Neural Network accuracy per epoch')\n",
    "plt.ylabel('Accuracy')\n",
    "plt.xlabel('Epoch')\n",
    "plt.legend(['Training data', 'Validation data'])\n",
    "plt.show()\n",
    "\n",
    "plt.style.use('dark_background')\n",
    "plt.plot(lenetEpochHistory.history['loss'])\n",
    "plt.plot(lenetEpochHistory.history['val_loss'])\n",
    "plt.title('Neural Network loss per epoch')\n",
    "plt.ylabel('Loss')\n",
    "plt.xlabel('Epoch')\n",
    "plt.legend(['Training data', 'Validation data'])\n",
    "plt.show()"
   ]
  },
  {
   "cell_type": "markdown",
   "metadata": {},
   "source": [
    "# Saliency"
   ]
  },
  {
   "cell_type": "code",
   "execution_count": 15,
   "metadata": {
    "scrolled": false
   },
   "outputs": [
    {
     "data": {
      "text/plain": [
       "9"
      ]
     },
     "execution_count": 15,
     "metadata": {},
     "output_type": "execute_result"
    }
   ],
   "source": [
    "#This line outputs the layer_idx that the saliency is meant to be extracted from. (Usually the output layer pre-activation)\n",
    "utils.find_layer_idx(lenet, 'vis')"
   ]
  },
  {
   "cell_type": "code",
   "execution_count": 16,
   "metadata": {},
   "outputs": [
    {
     "data": {
      "text/plain": [
       "10"
      ]
     },
     "execution_count": 16,
     "metadata": {},
     "output_type": "execute_result"
    }
   ],
   "source": [
    "#Check if that layer is correct by checking if the number of nodes matches the number of outputs\n",
    "get_num_filters(lenet.layers[9])"
   ]
  },
  {
   "cell_type": "code",
   "execution_count": 29,
   "metadata": {},
   "outputs": [
    {
     "name": "stdout",
     "output_type": "stream",
     "text": [
      "144.21692\n"
     ]
    },
    {
     "data": {
      "image/png": "[encoded data removed]",
      "text/plain": [
       "<Figure size 432x288 with 2 Axes>"
      ]
     },
     "metadata": {},
     "output_type": "display_data"
    }
   ],
   "source": [
    "#Check if the saliency map is working for the singular network\n",
    "input_idx = 1\n",
    "fig, ax = plt.subplots(nrows=1, ncols=2)\n",
    "saliency_map = visualize_saliency(model = lenet,layer_idx = 9, filter_indices = np.argmax(testY[input_idx]), seed_input = testX[input_idx])\n",
    "ax[0].imshow(saliency_map.reshape(28,28),interpolation='nearest')\n",
    "ax[1].imshow(testX[input_idx].reshape(28,28))\n",
    "print(np.sum(saliency_map))\n",
    "plt.show()"
   ]
  },
  {
   "cell_type": "code",
   "execution_count": 21,
   "metadata": {},
   "outputs": [
    {
     "name": "stdout",
     "output_type": "stream",
     "text": [
      "10.1194315\n",
      "[4.8965433e-07 9.0337649e-04 5.7409161e-01 5.4565139e-06 3.9083391e-01\n",
      " 2.7167748e-06 3.4114052e-02 1.6212387e-05 3.2155313e-05 1.4853866e-08]\n"
     ]
    }
   ],
   "source": [
    "#This prints out the pre-activation outputs for the output layer\n",
    "intermediate_layer_model = keras.Model(inputs=lenet.input,\n",
    "                                 outputs=lenet.get_layer(\"vis\").output)\n",
    "intermediate_output = intermediate_layer_model.predict(testX)[input_idx]\n",
    "print(max(intermediate_output))\n",
    "print(lenet.predict(testX)[input_idx])"
   ]
  },
  {
   "cell_type": "code",
   "execution_count": 30,
   "metadata": {},
   "outputs": [
    {
     "data": {
      "image/png": "[encoded data removed]",
      "text/plain": [
       "<Figure size 1080x1080 with 6 Axes>"
      ]
     },
     "metadata": {},
     "output_type": "display_data"
    }
   ],
   "source": [
    "#Generate multiple saliency maps\n",
    "input_idx = 1\n",
    "saliency_maps = []\n",
    "predicted_classes = []\n",
    "for classifier in lenets:\n",
    "    saliency_maps.append(visualize_saliency(model = classifier,layer_idx = 9, filter_indices = np.argmax(testY[input_idx]), seed_input = testX[input_idx]))\n",
    "    predicted_classes.append(np.argmax(classifier.predict(testX)[input_idx]))\n",
    "\n",
    "image_saliency_maps = saliency_maps\n",
    "fig, ax = plt.subplots(nrows=1, ncols=classifier_number+1, figsize = (15,15))\n",
    "i = 1\n",
    "for s_map in image_saliency_maps:\n",
    "    ax[i].imshow(s_map.reshape(28,28),interpolation=\"nearest\")\n",
    "    i = i+1\n",
    "ax[0].imshow(testX[input_idx].reshape(28,28))\n",
    "plt.show()"
   ]
  },
  {
   "cell_type": "code",
   "execution_count": 31,
   "metadata": {},
   "outputs": [
    {
     "data": {
      "image/png": "[encoded data removed]",
      "text/plain": [
       "<Figure size 432x288 with 1 Axes>"
      ]
     },
     "metadata": {},
     "output_type": "display_data"
    }
   ],
   "source": [
    "# Compute difference of saliency maps\n",
    "saliency_map_difference = np.std(saliency_maps,axis=0)/np.average(saliency_maps,axis=0)\n",
    "plt.imshow(saliency_map_difference)\n",
    "plt.show()"
   ]
  },
  {
   "cell_type": "code",
   "execution_count": 32,
   "metadata": {
    "scrolled": true
   },
   "outputs": [
    {
     "data": {
      "text/plain": [
       "0.55027443"
      ]
     },
     "execution_count": 32,
     "metadata": {},
     "output_type": "execute_result"
    }
   ],
   "source": [
    "#Compute the average difference value for each pixel\n",
    "np.average(saliency_map_difference)"
   ]
  },
  {
   "cell_type": "code",
   "execution_count": 33,
   "metadata": {},
   "outputs": [
    {
     "data": {
      "text/plain": [
       "[2, 2, 2, 2, 2]"
      ]
     },
     "execution_count": 33,
     "metadata": {},
     "output_type": "execute_result"
    }
   ],
   "source": [
    "#Output the classes predicted by each classifier\n",
    "predicted_classes"
   ]
  },
  {
   "cell_type": "code",
   "execution_count": 28,
   "metadata": {},
   "outputs": [
    {
     "name": "stdout",
     "output_type": "stream",
     "text": [
      "247\n",
      "320\n",
      "321\n",
      "340\n",
      "381\n",
      "582\n",
      "583\n",
      "619\n",
      "659\n",
      "684\n",
      "720\n",
      "947\n",
      "1003\n",
      "1014\n",
      "1039\n",
      "1112\n",
      "1226\n",
      "1242\n",
      "1247\n",
      "1260\n",
      "1299\n",
      "1319\n",
      "1378\n",
      "1393\n",
      "1500\n",
      "1522\n",
      "1530\n",
      "1621\n",
      "1681\n",
      "1709\n",
      "1737\n",
      "1754\n",
      "1901\n",
      "2016\n",
      "2035\n",
      "2098\n",
      "2109\n",
      "2130\n",
      "2135\n",
      "2182\n",
      "2189\n",
      "2326\n",
      "2387\n",
      "2406\n",
      "2414\n",
      "2455\n",
      "2488\n",
      "2654\n",
      "2730\n",
      "2896\n",
      "2921\n",
      "2927\n",
      "2953\n",
      "3060\n",
      "3073\n",
      "3251\n",
      "3503\n",
      "3520\n",
      "3558\n",
      "3574\n",
      "3597\n",
      "3702\n",
      "3767\n",
      "3796\n",
      "3808\n",
      "3850\n",
      "3869\n",
      "3893\n",
      "3902\n",
      "3985\n",
      "4065\n",
      "4078\n",
      "4176\n",
      "4224\n",
      "4369\n",
      "4400\n",
      "4443\n",
      "4477\n",
      "4497\n",
      "4500\n",
      "4639\n",
      "4761\n",
      "4807\n",
      "4823\n",
      "4880\n",
      "4956\n",
      "5331\n",
      "5600\n",
      "5642\n",
      "5734\n",
      "5842\n",
      "5937\n",
      "5955\n",
      "5972\n",
      "5973\n",
      "5981\n",
      "5982\n",
      "5985\n",
      "5997\n",
      "6011\n",
      "6059\n",
      "6166\n",
      "6532\n",
      "6555\n",
      "6571\n",
      "6572\n",
      "6576\n",
      "6597\n",
      "6651\n",
      "6783\n",
      "8094\n",
      "8246\n",
      "8325\n",
      "8339\n",
      "8408\n",
      "8527\n",
      "9009\n",
      "9015\n",
      "9024\n",
      "9587\n",
      "9634\n",
      "9642\n",
      "9679\n",
      "9729\n",
      "9749\n",
      "9770\n",
      "9792\n",
      "9811\n"
     ]
    }
   ],
   "source": [
    "#Output classes that were misclassified by the singular classifier\n",
    "idx = 0\n",
    "for i in lenet.predict(testX):\n",
    "    if (np.argmax(i) != np.argmax(testY[idx])):\n",
    "        print(idx)\n",
    "    idx = idx + 1"
   ]
  }
 ],
 "metadata": {
  "kernelspec": {
   "display_name": "Python 3",
   "language": "python",
   "name": "python3"
  },
  "language_info": {
   "codemirror_mode": {
    "name": "ipython",
    "version": 3
   },
   "file_extension": ".py",
   "mimetype": "text/x-python",
   "name": "python",
   "nbconvert_exporter": "python",
   "pygments_lexer": "ipython3",
   "version": "3.7.6"
  }
 },
 "nbformat": 4,
 "nbformat_minor": 2
}
