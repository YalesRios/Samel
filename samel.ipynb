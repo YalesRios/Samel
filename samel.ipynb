{
 "cells": [
  {
   "cell_type": "code",
   "execution_count": 1,
   "metadata": {},
   "outputs": [
    {
     "name": "stderr",
     "output_type": "stream",
     "text": [
      "/users/ai/u7ysrv/anaconda3/envs/samel/lib/python3.7/site-packages/tensorflow/python/framework/dtypes.py:516: FutureWarning: Passing (type, 1) or '1type' as a synonym of type is deprecated; in a future version of numpy, it will be understood as (type, (1,)) / '(1,)type'.\n",
      "  _np_qint8 = np.dtype([(\"qint8\", np.int8, 1)])\n",
      "/users/ai/u7ysrv/anaconda3/envs/samel/lib/python3.7/site-packages/tensorflow/python/framework/dtypes.py:517: FutureWarning: Passing (type, 1) or '1type' as a synonym of type is deprecated; in a future version of numpy, it will be understood as (type, (1,)) / '(1,)type'.\n",
      "  _np_quint8 = np.dtype([(\"quint8\", np.uint8, 1)])\n",
      "/users/ai/u7ysrv/anaconda3/envs/samel/lib/python3.7/site-packages/tensorflow/python/framework/dtypes.py:518: FutureWarning: Passing (type, 1) or '1type' as a synonym of type is deprecated; in a future version of numpy, it will be understood as (type, (1,)) / '(1,)type'.\n",
      "  _np_qint16 = np.dtype([(\"qint16\", np.int16, 1)])\n",
      "/users/ai/u7ysrv/anaconda3/envs/samel/lib/python3.7/site-packages/tensorflow/python/framework/dtypes.py:519: FutureWarning: Passing (type, 1) or '1type' as a synonym of type is deprecated; in a future version of numpy, it will be understood as (type, (1,)) / '(1,)type'.\n",
      "  _np_quint16 = np.dtype([(\"quint16\", np.uint16, 1)])\n",
      "/users/ai/u7ysrv/anaconda3/envs/samel/lib/python3.7/site-packages/tensorflow/python/framework/dtypes.py:520: FutureWarning: Passing (type, 1) or '1type' as a synonym of type is deprecated; in a future version of numpy, it will be understood as (type, (1,)) / '(1,)type'.\n",
      "  _np_qint32 = np.dtype([(\"qint32\", np.int32, 1)])\n",
      "/users/ai/u7ysrv/anaconda3/envs/samel/lib/python3.7/site-packages/tensorflow/python/framework/dtypes.py:525: FutureWarning: Passing (type, 1) or '1type' as a synonym of type is deprecated; in a future version of numpy, it will be understood as (type, (1,)) / '(1,)type'.\n",
      "  np_resource = np.dtype([(\"resource\", np.ubyte, 1)])\n",
      "/users/ai/u7ysrv/anaconda3/envs/samel/lib/python3.7/site-packages/tensorboard/compat/tensorflow_stub/dtypes.py:541: FutureWarning: Passing (type, 1) or '1type' as a synonym of type is deprecated; in a future version of numpy, it will be understood as (type, (1,)) / '(1,)type'.\n",
      "  _np_qint8 = np.dtype([(\"qint8\", np.int8, 1)])\n",
      "/users/ai/u7ysrv/anaconda3/envs/samel/lib/python3.7/site-packages/tensorboard/compat/tensorflow_stub/dtypes.py:542: FutureWarning: Passing (type, 1) or '1type' as a synonym of type is deprecated; in a future version of numpy, it will be understood as (type, (1,)) / '(1,)type'.\n",
      "  _np_quint8 = np.dtype([(\"quint8\", np.uint8, 1)])\n",
      "/users/ai/u7ysrv/anaconda3/envs/samel/lib/python3.7/site-packages/tensorboard/compat/tensorflow_stub/dtypes.py:543: FutureWarning: Passing (type, 1) or '1type' as a synonym of type is deprecated; in a future version of numpy, it will be understood as (type, (1,)) / '(1,)type'.\n",
      "  _np_qint16 = np.dtype([(\"qint16\", np.int16, 1)])\n",
      "/users/ai/u7ysrv/anaconda3/envs/samel/lib/python3.7/site-packages/tensorboard/compat/tensorflow_stub/dtypes.py:544: FutureWarning: Passing (type, 1) or '1type' as a synonym of type is deprecated; in a future version of numpy, it will be understood as (type, (1,)) / '(1,)type'.\n",
      "  _np_quint16 = np.dtype([(\"quint16\", np.uint16, 1)])\n",
      "/users/ai/u7ysrv/anaconda3/envs/samel/lib/python3.7/site-packages/tensorboard/compat/tensorflow_stub/dtypes.py:545: FutureWarning: Passing (type, 1) or '1type' as a synonym of type is deprecated; in a future version of numpy, it will be understood as (type, (1,)) / '(1,)type'.\n",
      "  _np_qint32 = np.dtype([(\"qint32\", np.int32, 1)])\n",
      "/users/ai/u7ysrv/anaconda3/envs/samel/lib/python3.7/site-packages/tensorboard/compat/tensorflow_stub/dtypes.py:550: FutureWarning: Passing (type, 1) or '1type' as a synonym of type is deprecated; in a future version of numpy, it will be understood as (type, (1,)) / '(1,)type'.\n",
      "  np_resource = np.dtype([(\"resource\", np.ubyte, 1)])\n",
      "Using TensorFlow backend.\n"
     ]
    }
   ],
   "source": [
    "import numpy as np\n",
    "import pandas as pd\n",
    "import tensorflow as tf\n",
    "#from tensorflow import keras\n",
    "import keras\n",
    "import matplotlib.pyplot as plt\n",
    "from vis.visualization import visualize_saliency\n",
    "from vis.visualization import get_num_filters\n",
    "from vis.visualization import visualize_activation\n",
    "from vis.utils import utils\n",
    "from tensorflow.keras.utils import plot_model\n",
    "from tensorflow.keras import activations"
   ]
  },
  {
   "cell_type": "markdown",
   "metadata": {},
   "source": [
    "# 1. Loading Data "
   ]
  },
  {
   "cell_type": "markdown",
   "metadata": {},
   "source": [
    "## Read dataset"
   ]
  },
  {
   "cell_type": "code",
   "execution_count": 2,
   "metadata": {},
   "outputs": [],
   "source": [
    "data = tf.keras.datasets.mnist"
   ]
  },
  {
   "cell_type": "code",
   "execution_count": 3,
   "metadata": {},
   "outputs": [],
   "source": [
    "(trainX, trainY),(testX, testY) = data.load_data()"
   ]
  },
  {
   "cell_type": "code",
   "execution_count": 4,
   "metadata": {},
   "outputs": [],
   "source": [
    "trainX = trainX.reshape((trainX.shape[0], 28, 28, 1))\n",
    "testX = testX.reshape((testX.shape[0], 28, 28, 1))"
   ]
  },
  {
   "cell_type": "code",
   "execution_count": 5,
   "metadata": {},
   "outputs": [],
   "source": [
    "trainY = keras.utils.to_categorical(trainY, 10)\n",
    "testY = keras.utils.to_categorical(testY, 10)"
   ]
  },
  {
   "cell_type": "code",
   "execution_count": 6,
   "metadata": {},
   "outputs": [],
   "source": [
    "trainX = trainX.astype(\"float32\") / 255.0\n",
    "testX = testX.astype(\"float32\") / 255.0"
   ]
  },
  {
   "cell_type": "code",
   "execution_count": 7,
   "metadata": {
    "scrolled": true
   },
   "outputs": [
    {
     "name": "stdout",
     "output_type": "stream",
     "text": [
      "(60000, 28, 28, 1)\n"
     ]
    }
   ],
   "source": [
    "print(trainX.shape)"
   ]
  },
  {
   "cell_type": "markdown",
   "metadata": {},
   "source": [
    "# Training"
   ]
  },
  {
   "cell_type": "markdown",
   "metadata": {},
   "source": [
    "## Code for training"
   ]
  },
  {
   "cell_type": "code",
   "execution_count": 8,
   "metadata": {},
   "outputs": [
    {
     "name": "stdout",
     "output_type": "stream",
     "text": [
      "WARNING:tensorflow:From /users/ai/u7ysrv/anaconda3/envs/samel/lib/python3.7/site-packages/keras/backend/tensorflow_backend.py:74: The name tf.get_default_graph is deprecated. Please use tf.compat.v1.get_default_graph instead.\n",
      "\n",
      "WARNING:tensorflow:From /users/ai/u7ysrv/anaconda3/envs/samel/lib/python3.7/site-packages/keras/backend/tensorflow_backend.py:517: The name tf.placeholder is deprecated. Please use tf.compat.v1.placeholder instead.\n",
      "\n",
      "WARNING:tensorflow:From /users/ai/u7ysrv/anaconda3/envs/samel/lib/python3.7/site-packages/keras/backend/tensorflow_backend.py:4138: The name tf.random_uniform is deprecated. Please use tf.random.uniform instead.\n",
      "\n",
      "WARNING:tensorflow:From /users/ai/u7ysrv/anaconda3/envs/samel/lib/python3.7/site-packages/keras/backend/tensorflow_backend.py:3976: The name tf.nn.max_pool is deprecated. Please use tf.nn.max_pool2d instead.\n",
      "\n"
     ]
    }
   ],
   "source": [
    "#Creates Sequential model using Keras\n",
    "#Number of nodes is the same as number of features (different number of nodes were tried but it did not\n",
    "#affect validation accuracy significantly)\n",
    "lenet = keras.Sequential([\n",
    "                            #Input layer:\n",
    "                            keras.layers.Conv2D(20, 5, padding=\"same\", input_shape=[28,28,1], use_bias=True),\n",
    "                            #Hidden Layers:\n",
    "                            keras.layers.Activation(activation=\"relu\"),\n",
    "                            keras.layers.MaxPooling2D(pool_size=(2, 2), strides=(2, 2)),\n",
    "                            keras.layers.Conv2D(50, 5, padding=\"same\"),\n",
    "                            keras.layers.Activation(activation=\"relu\"),\n",
    "                            keras.layers.MaxPooling2D(pool_size=(2, 2), strides=(2, 2)),\n",
    "                            keras.layers.Flatten(),\n",
    "                            keras.layers.Dense(500),\n",
    "                            keras.layers.Activation(activation=\"relu\"),\n",
    "                            keras.layers.Dense(10, name='vis',use_bias=True),\n",
    "                            #Output layer\n",
    "                            keras.layers.Activation(activation=\"softmax\"),\n",
    "                        ])"
   ]
  },
  {
   "cell_type": "code",
   "execution_count": 9,
   "metadata": {},
   "outputs": [],
   "source": [
    "#lenets = [keras.models.clone_model(lenet),keras.models.clone_model(lenet),keras.models.clone_model(lenet),keras.models.clone_model(lenet),keras.models.clone_model(lenet),keras.models.clone_model(lenet)]"
   ]
  },
  {
   "cell_type": "code",
   "execution_count": 10,
   "metadata": {},
   "outputs": [],
   "source": [
    "classifier_number = 5\n",
    "lenets = [keras.models.clone_model(lenet)]\n",
    "for i in range(1,classifier_number):\n",
    "    lenets.append(keras.models.clone_model(lenet))"
   ]
  },
  {
   "cell_type": "code",
   "execution_count": 11,
   "metadata": {
    "scrolled": false
   },
   "outputs": [
    {
     "name": "stdout",
     "output_type": "stream",
     "text": [
      "WARNING:tensorflow:From /users/ai/u7ysrv/anaconda3/envs/samel/lib/python3.7/site-packages/keras/optimizers.py:790: The name tf.train.Optimizer is deprecated. Please use tf.compat.v1.train.Optimizer instead.\n",
      "\n",
      "WARNING:tensorflow:From /users/ai/u7ysrv/anaconda3/envs/samel/lib/python3.7/site-packages/keras/backend/tensorflow_backend.py:3295: The name tf.log is deprecated. Please use tf.math.log instead.\n",
      "\n",
      "WARNING:tensorflow:From /users/ai/u7ysrv/anaconda3/envs/samel/lib/python3.7/site-packages/tensorflow/python/ops/math_grad.py:1250: add_dispatch_support.<locals>.wrapper (from tensorflow.python.ops.array_ops) is deprecated and will be removed in a future version.\n",
      "Instructions for updating:\n",
      "Use tf.where in 2.0, which has the same broadcast rule as np.where\n",
      "WARNING:tensorflow:From /users/ai/u7ysrv/anaconda3/envs/samel/lib/python3.7/site-packages/keras/backend/tensorflow_backend.py:986: The name tf.assign_add is deprecated. Please use tf.compat.v1.assign_add instead.\n",
      "\n",
      "Train on 60000 samples, validate on 10000 samples\n",
      "Epoch 1/5\n",
      "60000/60000 [==============================] - 17s 278us/step - loss: 0.4151 - acc: 0.8797 - val_loss: 0.1164 - val_acc: 0.9649\n",
      "Epoch 2/5\n",
      "60000/60000 [==============================] - 12s 201us/step - loss: 0.1066 - acc: 0.9678 - val_loss: 0.0704 - val_acc: 0.9784\n",
      "Epoch 3/5\n",
      "60000/60000 [==============================] - 12s 204us/step - loss: 0.0751 - acc: 0.9771 - val_loss: 0.0590 - val_acc: 0.9817\n",
      "Epoch 4/5\n",
      "60000/60000 [==============================] - 12s 201us/step - loss: 0.0605 - acc: 0.9818 - val_loss: 0.0529 - val_acc: 0.9828\n",
      "Epoch 5/5\n",
      "60000/60000 [==============================] - 12s 206us/step - loss: 0.0511 - acc: 0.9841 - val_loss: 0.0459 - val_acc: 0.9839\n"
     ]
    }
   ],
   "source": [
    "#Compiles sequential model\n",
    "#Using learning rate 0.01\n",
    "#Loss function will be categorical crossentropy\n",
    "lenet.compile(\n",
    "                optimizer=keras.optimizers.SGD(lr=0.01),\n",
    "                loss = 'categorical_crossentropy',\n",
    "                metrics = ['accuracy']\n",
    "                )\n",
    "#Trains network over a number of epochs and evaluates network agains validation data\n",
    "#after each epoch\n",
    "lenetEpochHistory = lenet.fit(trainX, trainY, epochs = 5, validation_data = (testX, testY))"
   ]
  },
  {
   "cell_type": "code",
   "execution_count": 12,
   "metadata": {
    "scrolled": false
   },
   "outputs": [
    {
     "name": "stdout",
     "output_type": "stream",
     "text": [
      "Train on 60000 samples, validate on 10000 samples\n",
      "Epoch 1/5\n",
      "60000/60000 [==============================] - 13s 210us/step - loss: 0.3838 - acc: 0.8901 - val_loss: 0.1244 - val_acc: 0.9626\n",
      "Epoch 2/5\n",
      "60000/60000 [==============================] - 12s 202us/step - loss: 0.1075 - acc: 0.9685 - val_loss: 0.1087 - val_acc: 0.9627\n",
      "Epoch 3/5\n",
      "60000/60000 [==============================] - 12s 203us/step - loss: 0.0758 - acc: 0.9766 - val_loss: 0.0571 - val_acc: 0.9816\n",
      "Epoch 4/5\n",
      "60000/60000 [==============================] - 12s 203us/step - loss: 0.0605 - acc: 0.9810 - val_loss: 0.0447 - val_acc: 0.9854\n",
      "Epoch 5/5\n",
      "60000/60000 [==============================] - 12s 204us/step - loss: 0.0501 - acc: 0.9849 - val_loss: 0.0541 - val_acc: 0.9813\n",
      "Train on 60000 samples, validate on 10000 samples\n",
      "Epoch 1/5\n",
      "60000/60000 [==============================] - 13s 209us/step - loss: 0.4479 - acc: 0.8725 - val_loss: 0.1281 - val_acc: 0.9616\n",
      "Epoch 2/5\n",
      "60000/60000 [==============================] - 12s 200us/step - loss: 0.1091 - acc: 0.9674 - val_loss: 0.0781 - val_acc: 0.9743\n",
      "Epoch 3/5\n",
      "60000/60000 [==============================] - 12s 199us/step - loss: 0.0767 - acc: 0.9768 - val_loss: 0.0563 - val_acc: 0.9813\n",
      "Epoch 4/5\n",
      "60000/60000 [==============================] - 12s 199us/step - loss: 0.0609 - acc: 0.9807 - val_loss: 0.0634 - val_acc: 0.9782\n",
      "Epoch 5/5\n",
      "60000/60000 [==============================] - 12s 198us/step - loss: 0.0513 - acc: 0.9843 - val_loss: 0.0482 - val_acc: 0.9836\n",
      "Train on 60000 samples, validate on 10000 samples\n",
      "Epoch 1/5\n",
      "60000/60000 [==============================] - 13s 213us/step - loss: 0.4066 - acc: 0.8847 - val_loss: 0.1348 - val_acc: 0.9587\n",
      "Epoch 2/5\n",
      "60000/60000 [==============================] - 12s 206us/step - loss: 0.1123 - acc: 0.9656 - val_loss: 0.0751 - val_acc: 0.9774\n",
      "Epoch 3/5\n",
      "60000/60000 [==============================] - 12s 207us/step - loss: 0.0758 - acc: 0.9770 - val_loss: 0.0578 - val_acc: 0.9800\n",
      "Epoch 4/5\n",
      "60000/60000 [==============================] - 12s 206us/step - loss: 0.0592 - acc: 0.9820 - val_loss: 0.0462 - val_acc: 0.9843\n",
      "Epoch 5/5\n",
      "60000/60000 [==============================] - 12s 207us/step - loss: 0.0493 - acc: 0.9846 - val_loss: 0.0471 - val_acc: 0.9842\n",
      "Train on 60000 samples, validate on 10000 samples\n",
      "Epoch 1/5\n",
      "60000/60000 [==============================] - 13s 214us/step - loss: 0.3923 - acc: 0.8873 - val_loss: 0.1408 - val_acc: 0.9541\n",
      "Epoch 2/5\n",
      "60000/60000 [==============================] - 12s 204us/step - loss: 0.1048 - acc: 0.9687 - val_loss: 0.0890 - val_acc: 0.9709\n",
      "Epoch 3/5\n",
      "60000/60000 [==============================] - 12s 207us/step - loss: 0.0728 - acc: 0.9773 - val_loss: 0.0575 - val_acc: 0.9799\n",
      "Epoch 4/5\n",
      "60000/60000 [==============================] - 12s 204us/step - loss: 0.0576 - acc: 0.9829 - val_loss: 0.0502 - val_acc: 0.9841\n",
      "Epoch 5/5\n",
      "60000/60000 [==============================] - 12s 204us/step - loss: 0.0491 - acc: 0.9851 - val_loss: 0.0470 - val_acc: 0.9851\n",
      "Train on 60000 samples, validate on 10000 samples\n",
      "Epoch 1/5\n",
      "60000/60000 [==============================] - 13s 213us/step - loss: 0.4306 - acc: 0.8749 - val_loss: 0.1269 - val_acc: 0.9610\n",
      "Epoch 2/5\n",
      "60000/60000 [==============================] - 12s 205us/step - loss: 0.1119 - acc: 0.9659 - val_loss: 0.0777 - val_acc: 0.9742\n",
      "Epoch 3/5\n",
      "60000/60000 [==============================] - 12s 204us/step - loss: 0.0759 - acc: 0.9768 - val_loss: 0.0640 - val_acc: 0.9798\n",
      "Epoch 4/5\n",
      "60000/60000 [==============================] - 12s 206us/step - loss: 0.0603 - acc: 0.9814 - val_loss: 0.0527 - val_acc: 0.9834\n",
      "Epoch 5/5\n",
      "60000/60000 [==============================] - 12s 205us/step - loss: 0.0508 - acc: 0.9843 - val_loss: 0.0428 - val_acc: 0.9863\n"
     ]
    }
   ],
   "source": [
    "#Compiles sequential model\n",
    "#Using learning rate 0.01\n",
    "#Loss function will be categorical crossentropy\n",
    "for model in lenets:\n",
    "    model.compile(\n",
    "                    optimizer=keras.optimizers.SGD(lr=0.01),\n",
    "                    loss = 'categorical_crossentropy',\n",
    "                    metrics = ['accuracy']\n",
    "                    )\n",
    "#Trains network over a number of epochs and evaluates network agains validation data\n",
    "#after each epoch\n",
    "for model in lenets:\n",
    "    model.fit(trainX, trainY, epochs = 5, validation_data = (testX, testY))"
   ]
  },
  {
   "cell_type": "markdown",
   "metadata": {},
   "source": [
    "# General Evaluation"
   ]
  },
  {
   "cell_type": "code",
   "execution_count": 13,
   "metadata": {},
   "outputs": [
    {
     "name": "stdout",
     "output_type": "stream",
     "text": [
      "6\n",
      "6\n"
     ]
    }
   ],
   "source": [
    "#Predicting Label:\n",
    "\n",
    "print(np.argmax(lenet.predict(testX)[100]))\n",
    "print(np.argmax(testY[100]))"
   ]
  },
  {
   "cell_type": "code",
   "execution_count": 14,
   "metadata": {},
   "outputs": [
    {
     "name": "stdout",
     "output_type": "stream",
     "text": [
      "10000/10000 [==============================] - 1s 80us/step\n",
      "Lenet accuracy:  0.9839\n",
      "Lenet loss:  0.045863325390056706\n"
     ]
    },
    {
     "data": {
      "image/png": "[encoded data removed]",
      "text/plain": [
       "<Figure size 432x288 with 1 Axes>"
      ]
     },
     "metadata": {},
     "output_type": "display_data"
    },
    {
     "data": {
      "image/png": "[encoded data removed]",
      "text/plain": [
       "<Figure size 432x288 with 1 Axes>"
      ]
     },
     "metadata": {},
     "output_type": "display_data"
    }
   ],
   "source": [
    "#Get accuracy for lenet\n",
    "sequentialLoss, sequentialAccuracy = lenet.evaluate(testX, testY)\n",
    "print('Lenet accuracy: ', sequentialAccuracy)\n",
    "print('Lenet loss: ', sequentialLoss)\n",
    "\n",
    "plt.style.use('dark_background')\n",
    "plt.plot(lenetEpochHistory.history['acc'])\n",
    "plt.plot(lenetEpochHistory.history['val_acc'])\n",
    "plt.title('Neural Network accuracy per epoch')\n",
    "plt.ylabel('Accuracy')\n",
    "plt.xlabel('Epoch')\n",
    "plt.legend(['Training data', 'Validation data'])\n",
    "plt.show()\n",
    "\n",
    "plt.style.use('dark_background')\n",
    "plt.plot(lenetEpochHistory.history['loss'])\n",
    "plt.plot(lenetEpochHistory.history['val_loss'])\n",
    "plt.title('Neural Network loss per epoch')\n",
    "plt.ylabel('Loss')\n",
    "plt.xlabel('Epoch')\n",
    "plt.legend(['Training data', 'Validation data'])\n",
    "plt.show()"
   ]
  },
  {
   "cell_type": "markdown",
   "metadata": {},
   "source": [
    "# Saliency"
   ]
  },
  {
   "cell_type": "code",
   "execution_count": 15,
   "metadata": {
    "scrolled": false
   },
   "outputs": [
    {
     "data": {
      "text/plain": [
       "9"
      ]
     },
     "execution_count": 15,
     "metadata": {},
     "output_type": "execute_result"
    }
   ],
   "source": [
    "#This line outputs the layer_idx that the saliency is meant to be extracted from. (Usually the output layer pre-activation)\n",
    "utils.find_layer_idx(lenet, 'vis')"
   ]
  },
  {
   "cell_type": "code",
   "execution_count": 16,
   "metadata": {},
   "outputs": [
    {
     "data": {
      "text/plain": [
       "10"
      ]
     },
     "execution_count": 16,
     "metadata": {},
     "output_type": "execute_result"
    }
   ],
   "source": [
    "#Check if that layer is correct by checking if the number of nodes matches the number of outputs\n",
    "get_num_filters(lenet.layers[9])"
   ]
  },
  {
   "cell_type": "code",
   "execution_count": 17,
   "metadata": {},
   "outputs": [
    {
     "name": "stdout",
     "output_type": "stream",
     "text": [
      "127.66993\n"
     ]
    },
    {
     "data": {
      "image/png": "[encoded data removed]",
      "text/plain": [
       "<Figure size 432x288 with 2 Axes>"
      ]
     },
     "metadata": {},
     "output_type": "display_data"
    }
   ],
   "source": [
    "#Check if the saliency map is working for the singular network\n",
    "input_idx = 1\n",
    "fig, ax = plt.subplots(nrows=1, ncols=2)\n",
    "saliency_map = visualize_saliency(model = lenet,layer_idx = 9, filter_indices = np.argmax(testY[input_idx]), seed_input = testX[input_idx])\n",
    "ax[0].imshow(saliency_map.reshape(28,28),interpolation='nearest')\n",
    "ax[1].imshow(testX[input_idx].reshape(28,28))\n",
    "print(np.sum(saliency_map))\n",
    "plt.show()"
   ]
  },
  {
   "cell_type": "code",
   "execution_count": 18,
   "metadata": {},
   "outputs": [
    {
     "name": "stdout",
     "output_type": "stream",
     "text": [
      "17.762522\n",
      "[7.2112664e-07 3.8382081e-05 9.9995923e-01 5.6524959e-07 1.6890947e-10\n",
      " 7.4681705e-11 1.9684887e-08 7.6446599e-11 1.0190720e-06 2.4528426e-13]\n"
     ]
    }
   ],
   "source": [
    "#This prints out the pre-activation outputs for the output layer (for curiosity)\n",
    "intermediate_layer_model = keras.Model(inputs=lenet.input,\n",
    "                                 outputs=lenet.get_layer(\"vis\").output)\n",
    "intermediate_output = intermediate_layer_model.predict(testX)[input_idx]\n",
    "print(max(intermediate_output))\n",
    "print(lenet.predict(testX)[input_idx])"
   ]
  },
  {
   "cell_type": "code",
   "execution_count": 19,
   "metadata": {},
   "outputs": [],
   "source": [
    "#Function to generate multiple saliency maps\n",
    "def generate_saliency_maps(classifiers,classifier_input,output_node,visualised_layer):\n",
    "    saliency_maps = []\n",
    "    for classifier in classifiers:\n",
    "        saliency_maps.append(visualize_saliency(model = classifier,layer_idx = visualised_layer, filter_indices = output_node, seed_input = classifier_input))\n",
    "    return(saliency_maps)    \n",
    "    "
   ]
  },
  {
   "cell_type": "code",
   "execution_count": 68,
   "metadata": {},
   "outputs": [],
   "source": [
    "#Function to visualise the multiple saliency maps\n",
    "def visualize_saliency_maps(classifier_input,saliency_maps):\n",
    "    fig, ax = plt.subplots(nrows=1, ncols=len(saliency_maps)+1, figsize = (15,15))\n",
    "    i = 1\n",
    "    for s_map in saliency_maps:\n",
    "        ax[i].imshow(s_map)\n",
    "        i = i+1\n",
    "    ax[0].imshow(classifier_input)\n",
    "    plt.show()"
   ]
  },
  {
   "cell_type": "code",
   "execution_count": 69,
   "metadata": {},
   "outputs": [],
   "source": [
    "# Compute difference of saliency maps\n",
    "def generate_uncertainty_map(saliency_maps):\n",
    "    return(np.std(saliency_maps,axis=0)/np.average(saliency_maps,axis=0))"
   ]
  },
  {
   "cell_type": "code",
   "execution_count": 78,
   "metadata": {},
   "outputs": [],
   "source": [
    "# Wrapper function to arrive at ratio output from classifiers and input\n",
    "def calculate_uncertainty(classifiers,classifier_input,output_node,visualised_layer):\n",
    "    \n",
    "    saliency_maps = generate_saliency_maps(classifiers = classifiers,\n",
    "                                  classifier_input = classifier_input,\n",
    "                                  output_node = output_node,\n",
    "                                  visualised_layer = visualised_layer)\n",
    "    \n",
    "    uncertainty_map = generate_uncertainty_map(saliency_maps)\n",
    "    \n",
    "    return(np.average(uncertainty_map))\n"
   ]
  },
  {
   "cell_type": "code",
   "execution_count": 79,
   "metadata": {},
   "outputs": [],
   "source": [
    "# Generate saliency maps examples\n",
    "input_idx = 1\n",
    "maps = generate_saliency_maps(classifiers = lenets,\n",
    "                              classifier_input = testX[input_idx],\n",
    "                              output_node = np.argmax(testY[input_idx]),\n",
    "                              visualised_layer = 9)"
   ]
  },
  {
   "cell_type": "code",
   "execution_count": 80,
   "metadata": {},
   "outputs": [
    {
     "data": {
      "image/png": "[encoded data removed]",
      "text/plain": [
       "<Figure size 1080x1080 with 6 Axes>"
      ]
     },
     "metadata": {},
     "output_type": "display_data"
    }
   ],
   "source": [
    "# Visualise saliency maps examples\n",
    "visualize_saliency_maps(classifier_input = testX[input_idx].reshape(28,28),\n",
    "                        saliency_maps = maps)"
   ]
  },
  {
   "cell_type": "code",
   "execution_count": 81,
   "metadata": {},
   "outputs": [
    {
     "data": {
      "image/png": "[encoded data removed]",
      "text/plain": [
       "<Figure size 432x288 with 1 Axes>"
      ]
     },
     "metadata": {},
     "output_type": "display_data"
    }
   ],
   "source": [
    "# Visualise uncertainty map example\n",
    "uncertainty_map = generate_uncertainty_map(maps)\n",
    "plt.imshow(uncertainty_map)\n",
    "plt.show()"
   ]
  },
  {
   "cell_type": "code",
   "execution_count": 82,
   "metadata": {
    "scrolled": true
   },
   "outputs": [
    {
     "data": {
      "text/plain": [
       "0.5616534"
      ]
     },
     "execution_count": 82,
     "metadata": {},
     "output_type": "execute_result"
    }
   ],
   "source": [
    "# Compute the average difference value for each pixel (uncertainty)\n",
    "np.average(saliency_map_difference)"
   ]
  },
  {
   "cell_type": "code",
   "execution_count": 88,
   "metadata": {},
   "outputs": [
    {
     "name": "stdout",
     "output_type": "stream",
     "text": [
      "0.54157114\n"
     ]
    }
   ],
   "source": [
    "# Generating example using wrapper function\n",
    "input_idx = 4\n",
    "uncertainty = calculate_uncertainty(classifiers = lenets,\n",
    "                              classifier_input = testX[input_idx],\n",
    "                              output_node = np.argmax(testY[input_idx]),\n",
    "                              visualised_layer = 9)\n",
    "print(uncertainty)"
   ]
  },
  {
   "cell_type": "code",
   "execution_count": 26,
   "metadata": {},
   "outputs": [
    {
     "name": "stdout",
     "output_type": "stream",
     "text": [
      "259\n",
      "290\n",
      "340\n",
      "445\n",
      "495\n",
      "582\n",
      "684\n",
      "689\n",
      "720\n",
      "938\n",
      "947\n",
      "951\n",
      "965\n",
      "1003\n",
      "1014\n",
      "1039\n",
      "1182\n",
      "1226\n",
      "1232\n",
      "1242\n",
      "1247\n",
      "1260\n",
      "1289\n",
      "1299\n",
      "1319\n",
      "1326\n",
      "1364\n",
      "1393\n",
      "1500\n",
      "1522\n",
      "1530\n",
      "1609\n",
      "1681\n",
      "1709\n",
      "1717\n",
      "1721\n",
      "1737\n",
      "1754\n",
      "1878\n",
      "1901\n",
      "1955\n",
      "2016\n",
      "2035\n",
      "2098\n",
      "2109\n",
      "2118\n",
      "2130\n",
      "2135\n",
      "2182\n",
      "2189\n",
      "2272\n",
      "2369\n",
      "2387\n",
      "2414\n",
      "2422\n",
      "2454\n",
      "2462\n",
      "2488\n",
      "2526\n",
      "2597\n",
      "2648\n",
      "2654\n",
      "2743\n",
      "2771\n",
      "2810\n",
      "2896\n",
      "2953\n",
      "2995\n",
      "3030\n",
      "3073\n",
      "3130\n",
      "3422\n",
      "3503\n",
      "3520\n",
      "3558\n",
      "3597\n",
      "3702\n",
      "3762\n",
      "3767\n",
      "3796\n",
      "3808\n",
      "3811\n",
      "3853\n",
      "3869\n",
      "3893\n",
      "3902\n",
      "3906\n",
      "3951\n",
      "3985\n",
      "4075\n",
      "4078\n",
      "4102\n",
      "4163\n",
      "4176\n",
      "4224\n",
      "4256\n",
      "4271\n",
      "4306\n",
      "4360\n",
      "4369\n",
      "4497\n",
      "4536\n",
      "4571\n",
      "4578\n",
      "4639\n",
      "4740\n",
      "4761\n",
      "4807\n",
      "4814\n",
      "4823\n",
      "4860\n",
      "4874\n",
      "4880\n",
      "4956\n",
      "5199\n",
      "5331\n",
      "5600\n",
      "5642\n",
      "5842\n",
      "5887\n",
      "5937\n",
      "5955\n",
      "5972\n",
      "5973\n",
      "5981\n",
      "5982\n",
      "5985\n",
      "5997\n",
      "6011\n",
      "6023\n",
      "6042\n",
      "6059\n",
      "6505\n",
      "6555\n",
      "6571\n",
      "6572\n",
      "6576\n",
      "6597\n",
      "6651\n",
      "6783\n",
      "6847\n",
      "6926\n",
      "8062\n",
      "8094\n",
      "8316\n",
      "8408\n",
      "9009\n",
      "9015\n",
      "9019\n",
      "9024\n",
      "9587\n",
      "9634\n",
      "9642\n",
      "9664\n",
      "9679\n",
      "9698\n",
      "9729\n",
      "9770\n",
      "9792\n",
      "9811\n",
      "9888\n"
     ]
    }
   ],
   "source": [
    "#Output images that were misclassified by the singular classifier\n",
    "idx = 0\n",
    "for i in lenet.predict(testX):\n",
    "    if (np.argmax(i) != np.argmax(testY[idx])):\n",
    "        print(idx)\n",
    "    idx = idx + 1"
   ]
  }
 ],
 "metadata": {
  "kernelspec": {
   "display_name": "Python 3",
   "language": "python",
   "name": "python3"
  },
  "language_info": {
   "codemirror_mode": {
    "name": "ipython",
    "version": 3
   },
   "file_extension": ".py",
   "mimetype": "text/x-python",
   "name": "python",
   "nbconvert_exporter": "python",
   "pygments_lexer": "ipython3",
   "version": "3.7.6"
  }
 },
 "nbformat": 4,
 "nbformat_minor": 2
}
